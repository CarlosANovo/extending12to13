{
 "cells": [
  {
   "cell_type": "code",
   "execution_count": 1,
   "id": "8a629a9c-61d7-49b4-ae06-8409ed60e189",
   "metadata": {},
   "outputs": [],
   "source": [
    "import pandas as pd\n",
    "import numpy as np\n",
    "\n",
    "from sklearn.model_selection import train_test_split\n",
    "from sklearn.utils import shuffle\n",
    "from sklearn.ensemble import RandomForestClassifier\n",
    "from sklearn.model_selection import cross_validate\n",
    "from sklearn.metrics import recall_score, make_scorer\n",
    "\n",
    "# Decision tree with cross validation:\n",
    "from sklearn.tree import DecisionTreeClassifier as dtc # tree algorithm\n",
    "from sklearn.model_selection import GridSearchCV\n",
    "\n",
    "from sklearn.model_selection import StratifiedGroupKFold\n",
    "from functools import reduce"
   ]
  },
  {
   "cell_type": "code",
   "execution_count": 2,
   "id": "bb4d9e0d-938f-4424-bda4-f718bd58e16e",
   "metadata": {},
   "outputs": [],
   "source": [
    "pd.set_option('display.max_rows', 50)\n",
    "pd.set_option('display.max_columns', 500)\n",
    "pd.set_option('display.width', 1000)"
   ]
  },
  {
   "cell_type": "code",
   "execution_count": 3,
   "id": "c248f257-80e4-425e-b41b-31b013d9850c",
   "metadata": {},
   "outputs": [],
   "source": [
    "tls_tps = ['tls_tp_'+str(x) for x in range(20)]\n",
    "tls_bs = ['tls_b_'+str(x) for x in range(20)]\n",
    "tls_dir = ['tls_dir_'+str(x) for x in range(20)]\n",
    "\n",
    "joy_indices_tls = tls_bs + tls_dir\n",
    "joy_indices_tp = tls_bs + tls_dir + tls_tps"
   ]
  },
  {
   "cell_type": "code",
   "execution_count": 4,
   "id": "d11735f9-4088-4230-80be-f64946358f91",
   "metadata": {},
   "outputs": [],
   "source": [
    "tls_bs_half = ['tls_b_'+str(x) for x in range(10)]\n",
    "tls_dir_half = ['tls_dir_'+str(x) for x in range(10)]\n",
    "joy_indices_tls_half = tls_bs_half + tls_dir_half"
   ]
  },
  {
   "cell_type": "code",
   "execution_count": 5,
   "id": "f5a5c0b9-9425-4e6f-ad28-1253a20f9586",
   "metadata": {},
   "outputs": [],
   "source": [
    "ms_tlsdata = pd.read_csv('processed-datasets/ms-tls12-data.csv', index_col=0)\n",
    "ms13_filtered = pd.read_csv('processed-datasets/ms-tls13-data.csv', index_col=0)\n",
    "ms_tlsdata13 = pd.read_csv('processed-datasets/ms-tls13-behav.csv', index_col=0)\n",
    "for df in [ms_tlsdata, ms13_filtered, ms_tlsdata13]:\n",
    "    df['source'] = 'MS'\n",
    "    df['c2'] = 1"
   ]
  },
  {
   "cell_type": "code",
   "execution_count": 6,
   "id": "e5f4bed0-aa2e-441c-86c1-0e99c0d04c08",
   "metadata": {},
   "outputs": [],
   "source": [
    "# For metasploit there are 44 combinations of (command, tlsversion, certificate).\n",
    "# These will be used as a file id. From 20000 onwards to avoid overlap.\n",
    "ms_tlsdata['file'] = ms_tlsdata.groupby(['command', 'certver']).ngroup() + 20000"
   ]
  },
  {
   "cell_type": "code",
   "execution_count": 7,
   "id": "f66e8880-bb4c-4f88-b670-a5e09e7f7dc0",
   "metadata": {},
   "outputs": [],
   "source": [
    "tranco_tlsdata12 = pd.read_csv('processed-datasets/tranco-tls12-data.csv', index_col=0)\n",
    "tranco_13filtered = pd.read_csv('processed-datasets/tranco-tls13-data.csv', index_col=0)\n",
    "tranco_13behav = pd.read_csv('processed-datasets/tranco-tls13-behav-new.csv', index_col=0)\n",
    "\n",
    "for df in [tranco_tlsdata12, tranco_13filtered, tranco_13behav]:\n",
    "    df['source'] = 'tranco'\n",
    "    df['c2'] = 0\n",
    "tranco_tlsdata12['tranco_type'] = 'data12'; tranco_13filtered['tranco_type'] = 'data13'; tranco_13behav['tranco_type'] = 'behav13'"
   ]
  },
  {
   "cell_type": "code",
   "execution_count": 8,
   "id": "ad409797-f66f-4966-a7c9-bf8bc34a3f7e",
   "metadata": {},
   "outputs": [
    {
     "data": {
      "text/plain": [
       "0         10000\n",
       "1         10000\n",
       "3         10000\n",
       "4         10000\n",
       "5         10000\n",
       "          ...  \n",
       "505209    11510\n",
       "505321    11510\n",
       "505413    11510\n",
       "505535    11510\n",
       "505902    11510\n",
       "Name: file, Length: 200678, dtype: int16"
      ]
     },
     "execution_count": 8,
     "metadata": {},
     "output_type": "execute_result"
    }
   ],
   "source": [
    "# There are 2000 tranco files. We will assign an ID from 10000 to 11999\n",
    "# so that they don't overlap with MTA.\n",
    "tranco_tlsdata12['file_cat'] = tranco_tlsdata12['file'].astype('category')\n",
    "tranco_tlsdata12['file'] = tranco_tlsdata12['file_cat'].cat.codes\n",
    "tranco_tlsdata12['file'] = tranco_tlsdata12['file'] + 10000\n",
    "tranco_tlsdata12['file']"
   ]
  },
  {
   "cell_type": "code",
   "execution_count": 9,
   "id": "6394a2c9-e6eb-4b0e-b7a7-a63f985a3c50",
   "metadata": {},
   "outputs": [
    {
     "name": "stderr",
     "output_type": "stream",
     "text": [
      "/tmp/ipykernel_5791/687882289.py:1: DtypeWarning: Columns (50) have mixed types. Specify dtype option on import or set low_memory=False.\n",
      "  mta_tlsdata = pd.read_csv('processed-datasets/mta_tlsdata.csv')\n"
     ]
    }
   ],
   "source": [
    "mta_tlsdata = pd.read_csv('processed-datasets/mta_tlsdata.csv')"
   ]
  },
  {
   "cell_type": "code",
   "execution_count": 10,
   "id": "07b6174d-6a7a-44db-8231-53f3af74af5e",
   "metadata": {},
   "outputs": [
    {
     "data": {
      "text/html": [
       "<div>\n",
       "<style scoped>\n",
       "    .dataframe tbody tr th:only-of-type {\n",
       "        vertical-align: middle;\n",
       "    }\n",
       "\n",
       "    .dataframe tbody tr th {\n",
       "        vertical-align: top;\n",
       "    }\n",
       "\n",
       "    .dataframe thead th {\n",
       "        text-align: right;\n",
       "    }\n",
       "</style>\n",
       "<table border=\"1\" class=\"dataframe\">\n",
       "  <thead>\n",
       "    <tr style=\"text-align: right;\">\n",
       "      <th></th>\n",
       "      <th>tls_b_0</th>\n",
       "      <th>tls_b_1</th>\n",
       "      <th>tls_b_2</th>\n",
       "      <th>tls_b_3</th>\n",
       "      <th>tls_b_4</th>\n",
       "      <th>tls_b_5</th>\n",
       "      <th>tls_b_6</th>\n",
       "      <th>tls_b_7</th>\n",
       "      <th>tls_b_8</th>\n",
       "      <th>tls_b_9</th>\n",
       "      <th>tls_b_10</th>\n",
       "      <th>tls_b_11</th>\n",
       "      <th>tls_b_12</th>\n",
       "      <th>tls_b_13</th>\n",
       "      <th>tls_b_14</th>\n",
       "      <th>tls_b_15</th>\n",
       "      <th>tls_b_16</th>\n",
       "      <th>tls_b_17</th>\n",
       "      <th>tls_b_18</th>\n",
       "      <th>tls_b_19</th>\n",
       "      <th>tls_dir_0</th>\n",
       "      <th>tls_dir_1</th>\n",
       "      <th>tls_dir_2</th>\n",
       "      <th>tls_dir_3</th>\n",
       "      <th>tls_dir_4</th>\n",
       "      <th>tls_dir_5</th>\n",
       "      <th>tls_dir_6</th>\n",
       "      <th>tls_dir_7</th>\n",
       "      <th>tls_dir_8</th>\n",
       "      <th>tls_dir_9</th>\n",
       "      <th>tls_dir_10</th>\n",
       "      <th>tls_dir_11</th>\n",
       "      <th>tls_dir_12</th>\n",
       "      <th>tls_dir_13</th>\n",
       "      <th>tls_dir_14</th>\n",
       "      <th>tls_dir_15</th>\n",
       "      <th>tls_dir_16</th>\n",
       "      <th>tls_dir_17</th>\n",
       "      <th>tls_dir_18</th>\n",
       "      <th>tls_dir_19</th>\n",
       "    </tr>\n",
       "  </thead>\n",
       "  <tbody>\n",
       "    <tr>\n",
       "      <th>0</th>\n",
       "      <td>81</td>\n",
       "      <td>302</td>\n",
       "      <td>27</td>\n",
       "      <td>57</td>\n",
       "      <td>26</td>\n",
       "      <td>26</td>\n",
       "      <td>740</td>\n",
       "      <td>64</td>\n",
       "      <td>288</td>\n",
       "      <td>64</td>\n",
       "      <td>34</td>\n",
       "      <td>34</td>\n",
       "      <td>-1</td>\n",
       "      <td>-1</td>\n",
       "      <td>-1</td>\n",
       "      <td>-1</td>\n",
       "      <td>-1</td>\n",
       "      <td>-1</td>\n",
       "      <td>-1</td>\n",
       "      <td>-1</td>\n",
       "      <td>0</td>\n",
       "      <td>0</td>\n",
       "      <td>0</td>\n",
       "      <td>1</td>\n",
       "      <td>1</td>\n",
       "      <td>0</td>\n",
       "      <td>1</td>\n",
       "      <td>1</td>\n",
       "      <td>1</td>\n",
       "      <td>1</td>\n",
       "      <td>1</td>\n",
       "      <td>0</td>\n",
       "      <td>-1</td>\n",
       "      <td>-1</td>\n",
       "      <td>-1</td>\n",
       "      <td>-1</td>\n",
       "      <td>-1</td>\n",
       "      <td>-1</td>\n",
       "      <td>-1</td>\n",
       "      <td>-1</td>\n",
       "    </tr>\n",
       "    <tr>\n",
       "      <th>1</th>\n",
       "      <td>266</td>\n",
       "      <td>266</td>\n",
       "      <td>34</td>\n",
       "      <td>-1</td>\n",
       "      <td>-1</td>\n",
       "      <td>-1</td>\n",
       "      <td>-1</td>\n",
       "      <td>-1</td>\n",
       "      <td>-1</td>\n",
       "      <td>-1</td>\n",
       "      <td>-1</td>\n",
       "      <td>-1</td>\n",
       "      <td>-1</td>\n",
       "      <td>-1</td>\n",
       "      <td>-1</td>\n",
       "      <td>-1</td>\n",
       "      <td>-1</td>\n",
       "      <td>-1</td>\n",
       "      <td>-1</td>\n",
       "      <td>-1</td>\n",
       "      <td>1</td>\n",
       "      <td>1</td>\n",
       "      <td>1</td>\n",
       "      <td>-1</td>\n",
       "      <td>-1</td>\n",
       "      <td>-1</td>\n",
       "      <td>-1</td>\n",
       "      <td>-1</td>\n",
       "      <td>-1</td>\n",
       "      <td>-1</td>\n",
       "      <td>-1</td>\n",
       "      <td>-1</td>\n",
       "      <td>-1</td>\n",
       "      <td>-1</td>\n",
       "      <td>-1</td>\n",
       "      <td>-1</td>\n",
       "      <td>-1</td>\n",
       "      <td>-1</td>\n",
       "      <td>-1</td>\n",
       "      <td>-1</td>\n",
       "    </tr>\n",
       "    <tr>\n",
       "      <th>2</th>\n",
       "      <td>81</td>\n",
       "      <td>260</td>\n",
       "      <td>57</td>\n",
       "      <td>26</td>\n",
       "      <td>363</td>\n",
       "      <td>1425</td>\n",
       "      <td>1025</td>\n",
       "      <td>34</td>\n",
       "      <td>34</td>\n",
       "      <td>-1</td>\n",
       "      <td>-1</td>\n",
       "      <td>-1</td>\n",
       "      <td>-1</td>\n",
       "      <td>-1</td>\n",
       "      <td>-1</td>\n",
       "      <td>-1</td>\n",
       "      <td>-1</td>\n",
       "      <td>-1</td>\n",
       "      <td>-1</td>\n",
       "      <td>-1</td>\n",
       "      <td>0</td>\n",
       "      <td>0</td>\n",
       "      <td>1</td>\n",
       "      <td>0</td>\n",
       "      <td>1</td>\n",
       "      <td>1</td>\n",
       "      <td>1</td>\n",
       "      <td>1</td>\n",
       "      <td>0</td>\n",
       "      <td>-1</td>\n",
       "      <td>-1</td>\n",
       "      <td>-1</td>\n",
       "      <td>-1</td>\n",
       "      <td>-1</td>\n",
       "      <td>-1</td>\n",
       "      <td>-1</td>\n",
       "      <td>-1</td>\n",
       "      <td>-1</td>\n",
       "      <td>-1</td>\n",
       "      <td>-1</td>\n",
       "    </tr>\n",
       "    <tr>\n",
       "      <th>3</th>\n",
       "      <td>81</td>\n",
       "      <td>285</td>\n",
       "      <td>28</td>\n",
       "      <td>57</td>\n",
       "      <td>26</td>\n",
       "      <td>26</td>\n",
       "      <td>350</td>\n",
       "      <td>336</td>\n",
       "      <td>202</td>\n",
       "      <td>34</td>\n",
       "      <td>34</td>\n",
       "      <td>-1</td>\n",
       "      <td>-1</td>\n",
       "      <td>-1</td>\n",
       "      <td>-1</td>\n",
       "      <td>-1</td>\n",
       "      <td>-1</td>\n",
       "      <td>-1</td>\n",
       "      <td>-1</td>\n",
       "      <td>-1</td>\n",
       "      <td>0</td>\n",
       "      <td>0</td>\n",
       "      <td>0</td>\n",
       "      <td>1</td>\n",
       "      <td>0</td>\n",
       "      <td>1</td>\n",
       "      <td>1</td>\n",
       "      <td>1</td>\n",
       "      <td>1</td>\n",
       "      <td>1</td>\n",
       "      <td>0</td>\n",
       "      <td>-1</td>\n",
       "      <td>-1</td>\n",
       "      <td>-1</td>\n",
       "      <td>-1</td>\n",
       "      <td>-1</td>\n",
       "      <td>-1</td>\n",
       "      <td>-1</td>\n",
       "      <td>-1</td>\n",
       "      <td>-1</td>\n",
       "    </tr>\n",
       "    <tr>\n",
       "      <th>4</th>\n",
       "      <td>266</td>\n",
       "      <td>266</td>\n",
       "      <td>34</td>\n",
       "      <td>-1</td>\n",
       "      <td>-1</td>\n",
       "      <td>-1</td>\n",
       "      <td>-1</td>\n",
       "      <td>-1</td>\n",
       "      <td>-1</td>\n",
       "      <td>-1</td>\n",
       "      <td>-1</td>\n",
       "      <td>-1</td>\n",
       "      <td>-1</td>\n",
       "      <td>-1</td>\n",
       "      <td>-1</td>\n",
       "      <td>-1</td>\n",
       "      <td>-1</td>\n",
       "      <td>-1</td>\n",
       "      <td>-1</td>\n",
       "      <td>-1</td>\n",
       "      <td>1</td>\n",
       "      <td>1</td>\n",
       "      <td>1</td>\n",
       "      <td>-1</td>\n",
       "      <td>-1</td>\n",
       "      <td>-1</td>\n",
       "      <td>-1</td>\n",
       "      <td>-1</td>\n",
       "      <td>-1</td>\n",
       "      <td>-1</td>\n",
       "      <td>-1</td>\n",
       "      <td>-1</td>\n",
       "      <td>-1</td>\n",
       "      <td>-1</td>\n",
       "      <td>-1</td>\n",
       "      <td>-1</td>\n",
       "      <td>-1</td>\n",
       "      <td>-1</td>\n",
       "      <td>-1</td>\n",
       "      <td>-1</td>\n",
       "    </tr>\n",
       "    <tr>\n",
       "      <th>...</th>\n",
       "      <td>...</td>\n",
       "      <td>...</td>\n",
       "      <td>...</td>\n",
       "      <td>...</td>\n",
       "      <td>...</td>\n",
       "      <td>...</td>\n",
       "      <td>...</td>\n",
       "      <td>...</td>\n",
       "      <td>...</td>\n",
       "      <td>...</td>\n",
       "      <td>...</td>\n",
       "      <td>...</td>\n",
       "      <td>...</td>\n",
       "      <td>...</td>\n",
       "      <td>...</td>\n",
       "      <td>...</td>\n",
       "      <td>...</td>\n",
       "      <td>...</td>\n",
       "      <td>...</td>\n",
       "      <td>...</td>\n",
       "      <td>...</td>\n",
       "      <td>...</td>\n",
       "      <td>...</td>\n",
       "      <td>...</td>\n",
       "      <td>...</td>\n",
       "      <td>...</td>\n",
       "      <td>...</td>\n",
       "      <td>...</td>\n",
       "      <td>...</td>\n",
       "      <td>...</td>\n",
       "      <td>...</td>\n",
       "      <td>...</td>\n",
       "      <td>...</td>\n",
       "      <td>...</td>\n",
       "      <td>...</td>\n",
       "      <td>...</td>\n",
       "      <td>...</td>\n",
       "      <td>...</td>\n",
       "      <td>...</td>\n",
       "      <td>...</td>\n",
       "    </tr>\n",
       "    <tr>\n",
       "      <th>176170</th>\n",
       "      <td>339</td>\n",
       "      <td>105</td>\n",
       "      <td>-1</td>\n",
       "      <td>-1</td>\n",
       "      <td>-1</td>\n",
       "      <td>-1</td>\n",
       "      <td>-1</td>\n",
       "      <td>-1</td>\n",
       "      <td>-1</td>\n",
       "      <td>-1</td>\n",
       "      <td>-1</td>\n",
       "      <td>-1</td>\n",
       "      <td>-1</td>\n",
       "      <td>-1</td>\n",
       "      <td>-1</td>\n",
       "      <td>-1</td>\n",
       "      <td>-1</td>\n",
       "      <td>-1</td>\n",
       "      <td>-1</td>\n",
       "      <td>-1</td>\n",
       "      <td>0</td>\n",
       "      <td>1</td>\n",
       "      <td>-1</td>\n",
       "      <td>-1</td>\n",
       "      <td>-1</td>\n",
       "      <td>-1</td>\n",
       "      <td>-1</td>\n",
       "      <td>-1</td>\n",
       "      <td>-1</td>\n",
       "      <td>-1</td>\n",
       "      <td>-1</td>\n",
       "      <td>-1</td>\n",
       "      <td>-1</td>\n",
       "      <td>-1</td>\n",
       "      <td>-1</td>\n",
       "      <td>-1</td>\n",
       "      <td>-1</td>\n",
       "      <td>-1</td>\n",
       "      <td>-1</td>\n",
       "      <td>-1</td>\n",
       "    </tr>\n",
       "    <tr>\n",
       "      <th>176171</th>\n",
       "      <td>343</td>\n",
       "      <td>1436</td>\n",
       "      <td>1436</td>\n",
       "      <td>1436</td>\n",
       "      <td>1436</td>\n",
       "      <td>1436</td>\n",
       "      <td>126</td>\n",
       "      <td>1436</td>\n",
       "      <td>131</td>\n",
       "      <td>-1</td>\n",
       "      <td>-1</td>\n",
       "      <td>-1</td>\n",
       "      <td>-1</td>\n",
       "      <td>-1</td>\n",
       "      <td>-1</td>\n",
       "      <td>-1</td>\n",
       "      <td>-1</td>\n",
       "      <td>-1</td>\n",
       "      <td>-1</td>\n",
       "      <td>-1</td>\n",
       "      <td>0</td>\n",
       "      <td>1</td>\n",
       "      <td>1</td>\n",
       "      <td>1</td>\n",
       "      <td>1</td>\n",
       "      <td>1</td>\n",
       "      <td>1</td>\n",
       "      <td>1</td>\n",
       "      <td>1</td>\n",
       "      <td>-1</td>\n",
       "      <td>-1</td>\n",
       "      <td>-1</td>\n",
       "      <td>-1</td>\n",
       "      <td>-1</td>\n",
       "      <td>-1</td>\n",
       "      <td>-1</td>\n",
       "      <td>-1</td>\n",
       "      <td>-1</td>\n",
       "      <td>-1</td>\n",
       "      <td>-1</td>\n",
       "    </tr>\n",
       "    <tr>\n",
       "      <th>176172</th>\n",
       "      <td>322</td>\n",
       "      <td>1241</td>\n",
       "      <td>306</td>\n",
       "      <td>1436</td>\n",
       "      <td>1436</td>\n",
       "      <td>1436</td>\n",
       "      <td>1436</td>\n",
       "      <td>1436</td>\n",
       "      <td>129</td>\n",
       "      <td>-1</td>\n",
       "      <td>-1</td>\n",
       "      <td>-1</td>\n",
       "      <td>-1</td>\n",
       "      <td>-1</td>\n",
       "      <td>-1</td>\n",
       "      <td>-1</td>\n",
       "      <td>-1</td>\n",
       "      <td>-1</td>\n",
       "      <td>-1</td>\n",
       "      <td>-1</td>\n",
       "      <td>0</td>\n",
       "      <td>1</td>\n",
       "      <td>0</td>\n",
       "      <td>1</td>\n",
       "      <td>1</td>\n",
       "      <td>1</td>\n",
       "      <td>1</td>\n",
       "      <td>1</td>\n",
       "      <td>1</td>\n",
       "      <td>-1</td>\n",
       "      <td>-1</td>\n",
       "      <td>-1</td>\n",
       "      <td>-1</td>\n",
       "      <td>-1</td>\n",
       "      <td>-1</td>\n",
       "      <td>-1</td>\n",
       "      <td>-1</td>\n",
       "      <td>-1</td>\n",
       "      <td>-1</td>\n",
       "      <td>-1</td>\n",
       "    </tr>\n",
       "    <tr>\n",
       "      <th>176173</th>\n",
       "      <td>165</td>\n",
       "      <td>262</td>\n",
       "      <td>57</td>\n",
       "      <td>26</td>\n",
       "      <td>26</td>\n",
       "      <td>30</td>\n",
       "      <td>418</td>\n",
       "      <td>1413</td>\n",
       "      <td>1413</td>\n",
       "      <td>1413</td>\n",
       "      <td>1413</td>\n",
       "      <td>1413</td>\n",
       "      <td>1413</td>\n",
       "      <td>-1</td>\n",
       "      <td>-1</td>\n",
       "      <td>-1</td>\n",
       "      <td>-1</td>\n",
       "      <td>-1</td>\n",
       "      <td>-1</td>\n",
       "      <td>-1</td>\n",
       "      <td>0</td>\n",
       "      <td>0</td>\n",
       "      <td>1</td>\n",
       "      <td>1</td>\n",
       "      <td>0</td>\n",
       "      <td>0</td>\n",
       "      <td>1</td>\n",
       "      <td>1</td>\n",
       "      <td>1</td>\n",
       "      <td>1</td>\n",
       "      <td>1</td>\n",
       "      <td>1</td>\n",
       "      <td>1</td>\n",
       "      <td>-1</td>\n",
       "      <td>-1</td>\n",
       "      <td>-1</td>\n",
       "      <td>-1</td>\n",
       "      <td>-1</td>\n",
       "      <td>-1</td>\n",
       "      <td>-1</td>\n",
       "    </tr>\n",
       "    <tr>\n",
       "      <th>176174</th>\n",
       "      <td>165</td>\n",
       "      <td>281</td>\n",
       "      <td>184</td>\n",
       "      <td>57</td>\n",
       "      <td>26</td>\n",
       "      <td>26</td>\n",
       "      <td>814</td>\n",
       "      <td>271</td>\n",
       "      <td>60</td>\n",
       "      <td>34</td>\n",
       "      <td>34</td>\n",
       "      <td>70</td>\n",
       "      <td>234</td>\n",
       "      <td>-1</td>\n",
       "      <td>-1</td>\n",
       "      <td>-1</td>\n",
       "      <td>-1</td>\n",
       "      <td>-1</td>\n",
       "      <td>-1</td>\n",
       "      <td>-1</td>\n",
       "      <td>0</td>\n",
       "      <td>0</td>\n",
       "      <td>0</td>\n",
       "      <td>1</td>\n",
       "      <td>0</td>\n",
       "      <td>1</td>\n",
       "      <td>1</td>\n",
       "      <td>1</td>\n",
       "      <td>1</td>\n",
       "      <td>1</td>\n",
       "      <td>0</td>\n",
       "      <td>1</td>\n",
       "      <td>1</td>\n",
       "      <td>-1</td>\n",
       "      <td>-1</td>\n",
       "      <td>-1</td>\n",
       "      <td>-1</td>\n",
       "      <td>-1</td>\n",
       "      <td>-1</td>\n",
       "      <td>-1</td>\n",
       "    </tr>\n",
       "  </tbody>\n",
       "</table>\n",
       "<p>154993 rows × 40 columns</p>\n",
       "</div>"
      ],
      "text/plain": [
       "        tls_b_0  tls_b_1  tls_b_2  tls_b_3  tls_b_4  tls_b_5  tls_b_6  tls_b_7  tls_b_8  tls_b_9  tls_b_10  tls_b_11  tls_b_12  tls_b_13  tls_b_14  tls_b_15  tls_b_16  tls_b_17  tls_b_18  tls_b_19  tls_dir_0  tls_dir_1  tls_dir_2  tls_dir_3  tls_dir_4  tls_dir_5  tls_dir_6  tls_dir_7  tls_dir_8  tls_dir_9  tls_dir_10  tls_dir_11  tls_dir_12  tls_dir_13  tls_dir_14  tls_dir_15  tls_dir_16  tls_dir_17  tls_dir_18  tls_dir_19\n",
       "0            81      302       27       57       26       26      740       64      288       64        34        34        -1        -1        -1        -1        -1        -1        -1        -1          0          0          0          1          1          0          1          1          1          1           1           0          -1          -1          -1          -1          -1          -1          -1          -1\n",
       "1           266      266       34       -1       -1       -1       -1       -1       -1       -1        -1        -1        -1        -1        -1        -1        -1        -1        -1        -1          1          1          1         -1         -1         -1         -1         -1         -1         -1          -1          -1          -1          -1          -1          -1          -1          -1          -1          -1\n",
       "2            81      260       57       26      363     1425     1025       34       34       -1        -1        -1        -1        -1        -1        -1        -1        -1        -1        -1          0          0          1          0          1          1          1          1          0         -1          -1          -1          -1          -1          -1          -1          -1          -1          -1          -1\n",
       "3            81      285       28       57       26       26      350      336      202       34        34        -1        -1        -1        -1        -1        -1        -1        -1        -1          0          0          0          1          0          1          1          1          1          1           0          -1          -1          -1          -1          -1          -1          -1          -1          -1\n",
       "4           266      266       34       -1       -1       -1       -1       -1       -1       -1        -1        -1        -1        -1        -1        -1        -1        -1        -1        -1          1          1          1         -1         -1         -1         -1         -1         -1         -1          -1          -1          -1          -1          -1          -1          -1          -1          -1          -1\n",
       "...         ...      ...      ...      ...      ...      ...      ...      ...      ...      ...       ...       ...       ...       ...       ...       ...       ...       ...       ...       ...        ...        ...        ...        ...        ...        ...        ...        ...        ...        ...         ...         ...         ...         ...         ...         ...         ...         ...         ...         ...\n",
       "176170      339      105       -1       -1       -1       -1       -1       -1       -1       -1        -1        -1        -1        -1        -1        -1        -1        -1        -1        -1          0          1         -1         -1         -1         -1         -1         -1         -1         -1          -1          -1          -1          -1          -1          -1          -1          -1          -1          -1\n",
       "176171      343     1436     1436     1436     1436     1436      126     1436      131       -1        -1        -1        -1        -1        -1        -1        -1        -1        -1        -1          0          1          1          1          1          1          1          1          1         -1          -1          -1          -1          -1          -1          -1          -1          -1          -1          -1\n",
       "176172      322     1241      306     1436     1436     1436     1436     1436      129       -1        -1        -1        -1        -1        -1        -1        -1        -1        -1        -1          0          1          0          1          1          1          1          1          1         -1          -1          -1          -1          -1          -1          -1          -1          -1          -1          -1\n",
       "176173      165      262       57       26       26       30      418     1413     1413     1413      1413      1413      1413        -1        -1        -1        -1        -1        -1        -1          0          0          1          1          0          0          1          1          1          1           1           1           1          -1          -1          -1          -1          -1          -1          -1\n",
       "176174      165      281      184       57       26       26      814      271       60       34        34        70       234        -1        -1        -1        -1        -1        -1        -1          0          0          0          1          0          1          1          1          1          1           0           1           1          -1          -1          -1          -1          -1          -1          -1\n",
       "\n",
       "[154993 rows x 40 columns]"
      ]
     },
     "execution_count": 10,
     "metadata": {},
     "output_type": "execute_result"
    }
   ],
   "source": [
    "doh_behav = pd.read_csv('data/doh/tls13-behav.csv', index_col=0)\n",
    "doh_behav"
   ]
  },
  {
   "cell_type": "code",
   "execution_count": 11,
   "id": "fc4176e0-eceb-4840-9316-976cd07e46e4",
   "metadata": {},
   "outputs": [],
   "source": [
    "full_df_tlsdata = shuffle(pd.concat([tranco_tlsdata12, mta_tlsdata], ignore_index=True), random_state=42)\n",
    "#full_df = full_df_with_resumes[(full_df_with_resumes['session_resumed'] == False)|(full_df_with_resumes['s_psk'] == -1)].reset_index(drop=True)"
   ]
  },
  {
   "cell_type": "code",
   "execution_count": 12,
   "id": "c8137775-df3b-48a7-a72a-4771260762c2",
   "metadata": {},
   "outputs": [],
   "source": [
    "# Take ~20% of Tranco and MTA for final testing. These should be taken considering groups.\n",
    "# This can pottentially make 5 folds, and the experiment could be repeated.\n",
    "# Worth doing, or just do this single experiment?\n",
    "\n",
    "# X and Y composed only of MTA and Tranco 1.2.\n",
    "# StratifiedGroupKFold to take 20% out for final testing.\n",
    "x = full_df_tlsdata.loc[:,joy_indices_tls].values.astype(np.float64)\n",
    "y = full_df_tlsdata['c2'].values\n",
    "groups = full_df_tlsdata['file'].values"
   ]
  },
  {
   "cell_type": "code",
   "execution_count": 13,
   "id": "7417dabf-5cde-4c91-a36b-6a66acf21980",
   "metadata": {},
   "outputs": [],
   "source": [
    "sgkf = StratifiedGroupKFold(n_splits=5)\n",
    "# Take 1 fold/split, as our traing/test split:\n",
    "train_index, test_index = next(sgkf.split(x, y, groups))"
   ]
  },
  {
   "cell_type": "code",
   "execution_count": 14,
   "id": "29b89b42-4933-4d2e-a820-07ea657548f3",
   "metadata": {},
   "outputs": [],
   "source": [
    "# Metasploit 1.2 Short -- take 50% of files for testing only.\n",
    "# Out of the reamining 50%, take only 50% of each file for testing too.\n",
    "# Only 50% of 50% is used for training/validation in StratifiedGroupKFold fashion.\n",
    "# Metasploit 1.3 is all used for testing. Never for training -- We assume we don't have its groundtruth.\n",
    "\n",
    "# These test files won't be used for training/validation at all:\n",
    "# (can we catch an MS deployment we haven't seen before?)\n",
    "tls12long = (ms_tlsdata['certver'] == 'longcert')\n",
    "tls12long_files = ms_tlsdata[tls12long]['file'].unique()\n",
    "\n",
    "np.random.seed(42)\n",
    "metasploit_test_files = np.random.choice(\n",
    "    ms_tlsdata[~ms_tlsdata['file'].isin(tls12long_files)]['file'].unique(),\n",
    "    ms_tlsdata[~ms_tlsdata['file'].isin(tls12long_files)]['file'].nunique()//2,\n",
    "    replace=False\n",
    ")\n",
    "\n",
    "all_test_files = np.append(metasploit_test_files, tls12long_files)"
   ]
  },
  {
   "cell_type": "code",
   "execution_count": 15,
   "id": "41ef4070-42b2-431f-8ca0-dfb805615691",
   "metadata": {},
   "outputs": [],
   "source": [
    "# Out of the remaining files, we will also take 50% of traffic for testing\n",
    "# (can we effectively catch traffic from deployments we have seen before?)\n",
    "metasploit_train_samples, metasploit_test_samples_short12 = train_test_split(\n",
    "    ms_tlsdata[~ms_tlsdata['file'].isin(all_test_files)].index,\n",
    "    test_size=0.9,\n",
    "    random_state=42,\n",
    ")\n",
    "\n",
    "metasploit_test_samples = np.append(ms_tlsdata[ms_tlsdata['file'].isin(all_test_files)].index, metasploit_test_samples_short12)"
   ]
  },
  {
   "cell_type": "code",
   "execution_count": 16,
   "id": "66a2b3e5-c391-435d-bbc2-cf7c447f39da",
   "metadata": {},
   "outputs": [
    {
     "data": {
      "text/plain": [
       "source\n",
       "tranco    160934\n",
       "MTA        26974\n",
       "MS          7314\n",
       "Name: count, dtype: int64"
      ]
     },
     "metadata": {},
     "output_type": "display_data"
    }
   ],
   "source": [
    "# Now we combine MS 1.2 short (train), with the previous training samples obtained from the StratifiedGroupKFold.\n",
    "# These are used with Cross Validation to train RFCs and DecTrees. CV should be sgkf as well.\n",
    "# Using CV we will choose the best parameters (tree depth, number of estimators, whatever...),\n",
    "# and then use those parameters to train a \"final model\", that we will apply to the \"test set\".\n",
    "\n",
    "train_df = shuffle(pd.concat([\n",
    "    ms_tlsdata.loc[metasploit_train_samples],\n",
    "    full_df_tlsdata.loc[train_index]\n",
    "], ignore_index=True), random_state=42).reset_index(drop=True)\n",
    "\n",
    "display(train_df['source'].value_counts())\n",
    "\n",
    "x_train = train_df.loc[:,joy_indices_tls].values.astype(np.float64)\n",
    "y_train = train_df['c2'].values\n",
    "groups_train = train_df['file'].values"
   ]
  },
  {
   "cell_type": "code",
   "execution_count": 17,
   "id": "ac8467bb-bdb7-4dad-8653-4fa81c77cc1a",
   "metadata": {},
   "outputs": [],
   "source": [
    "tranco_test_half = {\n",
    "    '12': full_df_tlsdata.loc[test_index][(full_df_tlsdata.loc[test_index, 'source'] == 'tranco')].loc[:,joy_indices_tls_half].values.astype(np.float64),\n",
    "    '13filter': tranco_13filtered.loc[:, joy_indices_tls_half].values.astype(np.float64),\n",
    "    '13behav': tranco_13behav.loc[:, joy_indices_tls_half].values.astype(np.float64),\n",
    "}\n",
    "mta_test_half = full_df_tlsdata.loc[test_index][full_df_tlsdata.loc[test_index, 'source'] == 'MTA'].loc[:,joy_indices_tls_half].values.astype(np.float64)\n",
    "mta_test_y = full_df_tlsdata.loc[test_index][full_df_tlsdata.loc[test_index, 'source'] == 'MTA'].loc[:,'c2'].values\n",
    "ms_test_half = {\n",
    "    '12': {\"short\": ms_tlsdata.loc[metasploit_test_samples].loc[(ms_tlsdata.loc[metasploit_test_samples]['certver'] == 'shortcert'), joy_indices_tls_half].values.astype(np.float64),\n",
    "           \"long\":  ms_tlsdata.loc[metasploit_test_samples].loc[(ms_tlsdata.loc[metasploit_test_samples]['certver'] == 'longcert'), joy_indices_tls_half].values.astype(np.float64)},\n",
    "    '13filter': {\"short\": ms13_filtered.loc[(ms13_filtered['certver'] == 'shortcert'), joy_indices_tls_half].values.astype(np.float64),\n",
    "                 \"long\":  ms13_filtered.loc[(ms13_filtered['certver'] == 'longcert'), joy_indices_tls_half].values.astype(np.float64)},\n",
    "    '13behav': {\"short\": ms_tlsdata13.loc[(ms_tlsdata13['certver'] == 'shortcert'), joy_indices_tls_half].values.astype(np.float64),\n",
    "                 \"long\":  ms_tlsdata13.loc[(ms_tlsdata13['certver'] == 'longcert'), joy_indices_tls_half].values.astype(np.float64)}\n",
    "}"
   ]
  },
  {
   "cell_type": "code",
   "execution_count": 18,
   "id": "53b71851-8f40-4aa9-83f4-4a5c71e7717d",
   "metadata": {},
   "outputs": [],
   "source": [
    "doh_test_half = doh_behav.loc[:, joy_indices_tls_half].values.astype(np.float64)\n",
    "x_train_half = train_df.loc[:,joy_indices_tls_half].values.astype(np.float64)"
   ]
  },
  {
   "cell_type": "code",
   "execution_count": 19,
   "id": "0507d82c-966e-408d-bc4d-8b8b74b45a6d",
   "metadata": {},
   "outputs": [],
   "source": [
    "# Add some error to the training to see what happens.\n",
    "# 10 sizes, 10 directions. But we only add errror to directions.\n",
    "error_mask = np.array(x_train_half != -1).astype(int) * np.concatenate((np.ones((x_train_half.shape[0],10)), np.zeros((x_train_half.shape[0],10))), axis=1)\n",
    "rng = np.random.default_rng(42)\n",
    "error_vals = rng.noncentral_chisquare(3, 10, error_mask.shape).astype(int)-10\n",
    "error_to_add = error_mask * error_vals"
   ]
  },
  {
   "cell_type": "code",
   "execution_count": 20,
   "id": "768762ca-ea23-47b8-813c-34efa9ae2065",
   "metadata": {},
   "outputs": [],
   "source": [
    "x_train_half_err = x_train_half + error_to_add\n",
    "x_train_half_err_noerr, y_train_err_noerr, groups_err_noerr = shuffle(np.concatenate([x_train_half_err, x_train_half]), np.concatenate([y_train, y_train]), np.concatenate([groups_train, groups_train]), random_state=42)"
   ]
  },
  {
   "cell_type": "markdown",
   "id": "a7920f84-2413-4364-93ff-0f6799b17103",
   "metadata": {},
   "source": [
    "## Training"
   ]
  },
  {
   "cell_type": "code",
   "execution_count": 21,
   "id": "3c9c8420-ec78-4b48-862f-e7c259c9d020",
   "metadata": {},
   "outputs": [],
   "source": [
    "scoring = {\"AUC\": \"roc_auc\",\n",
    "           \"Accuracy\": \"accuracy\",\n",
    "           \"Balanced Accracy\": \"balanced_accuracy\",\n",
    "           \"Recall\": \"recall\",\n",
    "           \"Neg Recall\": make_scorer(recall_score, pos_label=0),\n",
    "           \"F1\": \"f1\"}\n",
    "\n",
    "sgkf = StratifiedGroupKFold(n_splits=10)"
   ]
  },
  {
   "cell_type": "code",
   "execution_count": 22,
   "id": "f5606554-aa42-4fb7-b3da-c5ee1bc1cf2c",
   "metadata": {},
   "outputs": [],
   "source": [
    "dtc_classifier = dtc(criterion = 'gini')\n",
    "parameters = {'max_depth':list(range(1,20))+[30,40,50,60], \n",
    "              'criterion': ['gini', 'entropy'], \n",
    "              'splitter': ['best', 'random'],\n",
    "              'class_weight': [None, 'balanced']}\n",
    "clf = GridSearchCV(dtc_classifier, parameters, n_jobs=-1, scoring=scoring, refit='F1', cv=sgkf)"
   ]
  },
  {
   "cell_type": "code",
   "execution_count": 28,
   "id": "1b9c7127-e5cf-4dbb-9306-c0a21f6aafc0",
   "metadata": {},
   "outputs": [
    {
     "name": "stdout",
     "output_type": "stream",
     "text": [
      "0.9218531864086035 {'class_weight': None, 'criterion': 'entropy', 'max_depth': 16, 'splitter': 'best'}\n"
     ]
    }
   ],
   "source": [
    "# Skip this if not performing grid search again!\n",
    "clf2 = GridSearchCV(dtc_classifier, parameters, n_jobs=-1, scoring=scoring, refit='F1', cv=sgkf)\n",
    "clf2.fit(x_train_half_err_noerr, y_train_err_noerr, groups=groups_err_noerr)\n",
    "print(clf2.best_score_, clf2.best_params_)"
   ]
  },
  {
   "cell_type": "code",
   "execution_count": 31,
   "id": "a9277012-0b14-4d7d-8ba0-60c5f7882d30",
   "metadata": {},
   "outputs": [
    {
     "data": {
      "text/plain": [
       "{'fit_time': array([1.36347556, 1.32792354, 1.37320709, 1.4528327 , 1.32286787,\n",
       "        1.34773111, 1.34274888, 1.33639812, 1.293612  , 1.22569013]),\n",
       " 'score_time': array([0.0684824 , 0.06711674, 0.0736413 , 0.07245111, 0.06796002,\n",
       "        0.06784558, 0.07728744, 0.06751323, 0.06774068, 0.06564355]),\n",
       " 'estimator': [DecisionTreeClassifier(criterion='entropy', max_depth=16),\n",
       "  DecisionTreeClassifier(criterion='entropy', max_depth=16),\n",
       "  DecisionTreeClassifier(criterion='entropy', max_depth=16),\n",
       "  DecisionTreeClassifier(criterion='entropy', max_depth=16),\n",
       "  DecisionTreeClassifier(criterion='entropy', max_depth=16),\n",
       "  DecisionTreeClassifier(criterion='entropy', max_depth=16),\n",
       "  DecisionTreeClassifier(criterion='entropy', max_depth=16),\n",
       "  DecisionTreeClassifier(criterion='entropy', max_depth=16),\n",
       "  DecisionTreeClassifier(criterion='entropy', max_depth=16),\n",
       "  DecisionTreeClassifier(criterion='entropy', max_depth=16)],\n",
       " 'test_AUC': array([0.96044099, 0.93035622, 0.98734648, 0.97946041, 0.97797505,\n",
       "        0.96273436, 0.98767561, 0.980957  , 0.98904076, 0.95993234]),\n",
       " 'test_Accuracy': array([0.98627268, 0.97165814, 0.99032942, 0.9892715 , 0.98725409,\n",
       "        0.97553604, 0.98651045, 0.99286748, 0.9945393 , 0.97701209]),\n",
       " 'test_Balanced Accracy': array([0.95006436, 0.87487972, 0.97630838, 0.96366292, 0.96138843,\n",
       "        0.9467776 , 0.9867522 , 0.97719331, 0.98786051, 0.94828358]),\n",
       " 'test_Recall': array([0.90578888, 0.75633089, 0.95916052, 0.93233296, 0.92964405,\n",
       "        0.91158192, 0.98710558, 0.95802609, 0.97953368, 0.91306786]),\n",
       " 'test_Neg Recall': array([0.99433984, 0.99342854, 0.99345624, 0.99499289, 0.9931328 ,\n",
       "        0.98197327, 0.98639882, 0.99636053, 0.99618733, 0.98349929]),\n",
       " 'test_F1': array([0.92321041, 0.8305268 , 0.94760437, 0.94072275, 0.9310681 ,\n",
       "        0.87204432, 0.95853281, 0.96075085, 0.9726045 , 0.87976223])}"
      ]
     },
     "metadata": {},
     "output_type": "display_data"
    },
    {
     "data": {
      "text/plain": [
       "tls_b_0      0.704533\n",
       "tls_b_1      0.156534\n",
       "tls_dir_1    0.049971\n",
       "tls_b_2      0.033264\n",
       "tls_b_3      0.016351\n",
       "tls_dir_2    0.009563\n",
       "tls_dir_0    0.009339\n",
       "tls_dir_3    0.006706\n",
       "tls_b_5      0.002509\n",
       "tls_b_4      0.002362\n",
       "dtype: float64"
      ]
     },
     "metadata": {},
     "output_type": "display_data"
    }
   ],
   "source": [
    "# Skip this if not performing grid search again!\n",
    "# Now that we have the \"best parameters\", print some metrics:\n",
    "scores_dtc2 = cross_validate(clf2.best_estimator_, x_train_half_err_noerr, y_train_err_noerr, groups=groups_err_noerr, cv=sgkf, n_jobs=-1, scoring=scoring, return_estimator=True)\n",
    "display(scores_dtc2)\n",
    "\n",
    "# Print the average feature importance for all CV tree classifiers:\n",
    "feature_importances2 = []\n",
    "for idx,estimator in enumerate(scores_dtc2['estimator']):\n",
    "    feature_importances2.append(pd.DataFrame(estimator.feature_importances_,\n",
    "                                            index = joy_indices_tls_half,\n",
    "                                            columns=['importance'+str(idx)]).sort_values('importance'+str(idx), ascending=False))\n",
    "\n",
    "all_feature_importances2 = reduce(lambda left,right: pd.merge(left,right,how='outer',\n",
    "                                                             left_index=True,\n",
    "                                                             right_index=True), feature_importances2)\n",
    "display(all_feature_importances2.mean(axis=1).sort_values(ascending=False).head(10))"
   ]
  },
  {
   "cell_type": "code",
   "execution_count": 25,
   "id": "da0bc305-2002-4c98-8da3-abd82b62b4d6",
   "metadata": {},
   "outputs": [
    {
     "data": {
      "text/html": [
       "<style>#sk-container-id-2 {color: black;}#sk-container-id-2 pre{padding: 0;}#sk-container-id-2 div.sk-toggleable {background-color: white;}#sk-container-id-2 label.sk-toggleable__label {cursor: pointer;display: block;width: 100%;margin-bottom: 0;padding: 0.3em;box-sizing: border-box;text-align: center;}#sk-container-id-2 label.sk-toggleable__label-arrow:before {content: \"▸\";float: left;margin-right: 0.25em;color: #696969;}#sk-container-id-2 label.sk-toggleable__label-arrow:hover:before {color: black;}#sk-container-id-2 div.sk-estimator:hover label.sk-toggleable__label-arrow:before {color: black;}#sk-container-id-2 div.sk-toggleable__content {max-height: 0;max-width: 0;overflow: hidden;text-align: left;background-color: #f0f8ff;}#sk-container-id-2 div.sk-toggleable__content pre {margin: 0.2em;color: black;border-radius: 0.25em;background-color: #f0f8ff;}#sk-container-id-2 input.sk-toggleable__control:checked~div.sk-toggleable__content {max-height: 200px;max-width: 100%;overflow: auto;}#sk-container-id-2 input.sk-toggleable__control:checked~label.sk-toggleable__label-arrow:before {content: \"▾\";}#sk-container-id-2 div.sk-estimator input.sk-toggleable__control:checked~label.sk-toggleable__label {background-color: #d4ebff;}#sk-container-id-2 div.sk-label input.sk-toggleable__control:checked~label.sk-toggleable__label {background-color: #d4ebff;}#sk-container-id-2 input.sk-hidden--visually {border: 0;clip: rect(1px 1px 1px 1px);clip: rect(1px, 1px, 1px, 1px);height: 1px;margin: -1px;overflow: hidden;padding: 0;position: absolute;width: 1px;}#sk-container-id-2 div.sk-estimator {font-family: monospace;background-color: #f0f8ff;border: 1px dotted black;border-radius: 0.25em;box-sizing: border-box;margin-bottom: 0.5em;}#sk-container-id-2 div.sk-estimator:hover {background-color: #d4ebff;}#sk-container-id-2 div.sk-parallel-item::after {content: \"\";width: 100%;border-bottom: 1px solid gray;flex-grow: 1;}#sk-container-id-2 div.sk-label:hover label.sk-toggleable__label {background-color: #d4ebff;}#sk-container-id-2 div.sk-serial::before {content: \"\";position: absolute;border-left: 1px solid gray;box-sizing: border-box;top: 0;bottom: 0;left: 50%;z-index: 0;}#sk-container-id-2 div.sk-serial {display: flex;flex-direction: column;align-items: center;background-color: white;padding-right: 0.2em;padding-left: 0.2em;position: relative;}#sk-container-id-2 div.sk-item {position: relative;z-index: 1;}#sk-container-id-2 div.sk-parallel {display: flex;align-items: stretch;justify-content: center;background-color: white;position: relative;}#sk-container-id-2 div.sk-item::before, #sk-container-id-2 div.sk-parallel-item::before {content: \"\";position: absolute;border-left: 1px solid gray;box-sizing: border-box;top: 0;bottom: 0;left: 50%;z-index: -1;}#sk-container-id-2 div.sk-parallel-item {display: flex;flex-direction: column;z-index: 1;position: relative;background-color: white;}#sk-container-id-2 div.sk-parallel-item:first-child::after {align-self: flex-end;width: 50%;}#sk-container-id-2 div.sk-parallel-item:last-child::after {align-self: flex-start;width: 50%;}#sk-container-id-2 div.sk-parallel-item:only-child::after {width: 0;}#sk-container-id-2 div.sk-dashed-wrapped {border: 1px dashed gray;margin: 0 0.4em 0.5em 0.4em;box-sizing: border-box;padding-bottom: 0.4em;background-color: white;}#sk-container-id-2 div.sk-label label {font-family: monospace;font-weight: bold;display: inline-block;line-height: 1.2em;}#sk-container-id-2 div.sk-label-container {text-align: center;}#sk-container-id-2 div.sk-container {/* jupyter's `normalize.less` sets `[hidden] { display: none; }` but bootstrap.min.css set `[hidden] { display: none !important; }` so we also need the `!important` here to be able to override the default hidden behavior on the sphinx rendered scikit-learn.org. See: https://github.com/scikit-learn/scikit-learn/issues/21755 */display: inline-block !important;position: relative;}#sk-container-id-2 div.sk-text-repr-fallback {display: none;}</style><div id=\"sk-container-id-2\" class=\"sk-top-container\"><div class=\"sk-text-repr-fallback\"><pre>DecisionTreeClassifier(criterion=&#x27;entropy&#x27;, max_depth=16)</pre><b>In a Jupyter environment, please rerun this cell to show the HTML representation or trust the notebook. <br />On GitHub, the HTML representation is unable to render, please try loading this page with nbviewer.org.</b></div><div class=\"sk-container\" hidden><div class=\"sk-item\"><div class=\"sk-estimator sk-toggleable\"><input class=\"sk-toggleable__control sk-hidden--visually\" id=\"sk-estimator-id-2\" type=\"checkbox\" checked><label for=\"sk-estimator-id-2\" class=\"sk-toggleable__label sk-toggleable__label-arrow\">DecisionTreeClassifier</label><div class=\"sk-toggleable__content\"><pre>DecisionTreeClassifier(criterion=&#x27;entropy&#x27;, max_depth=16)</pre></div></div></div></div></div>"
      ],
      "text/plain": [
       "DecisionTreeClassifier(criterion='entropy', max_depth=16)"
      ]
     },
     "execution_count": 25,
     "metadata": {},
     "output_type": "execute_result"
    }
   ],
   "source": [
    "# 0.9218531864086035 {'class_weight': None, 'criterion': 'entropy', 'max_depth': 16, 'splitter': 'best'}\n",
    "clf2 = dtc(class_weight=None, criterion='entropy', max_depth=16, splitter='best')\n",
    "clf2.fit(x_train_half_err_noerr, y_train_err_noerr)"
   ]
  },
  {
   "cell_type": "code",
   "execution_count": 29,
   "id": "35e6dcfa-9eaf-4dda-a75d-21e7776f6b3e",
   "metadata": {},
   "outputs": [
    {
     "name": "stdout",
     "output_type": "stream",
     "text": [
      "93.90 & 95.64 & 99.93 & 98.97 & 98.85\n"
     ]
    }
   ],
   "source": [
    "print(\" & \".join('{:.2f}'.format(x) for x in [ \n",
    "                   sum(clf2.predict(mta_test_half)[np.where(mta_test_y==0)] == 0) / sum(mta_test_y==0) *100,\n",
    "                   sum(clf2.predict(mta_test_half)[np.where(mta_test_y)]) / sum(mta_test_y) *100,\n",
    "                   sum(clf2.predict(tranco_test_half['12'])==0)/len(tranco_test_half['12']) * 100,\n",
    "                   sum(clf2.predict(ms_test_half['12'][\"short\"])==1)/len(ms_test_half['12'][\"short\"]) * 100,\n",
    "                   sum(clf2.predict(ms_test_half['12'][\"long\"])==1)/len(ms_test_half['12'][\"long\"]) * 100\n",
    "]))"
   ]
  },
  {
   "cell_type": "code",
   "execution_count": 34,
   "id": "7ed1a089-d42b-47fd-a857-bb6f8e80721f",
   "metadata": {},
   "outputs": [
    {
     "name": "stdout",
     "output_type": "stream",
     "text": [
      "93.90 & 95.64 & 99.93 & 98.97 & 98.85\n"
     ]
    }
   ],
   "source": [
    "print(\" & \".join('{:.2f}'.format(x) for x in [ \n",
    "                   sum(clf2.predict(mta_test_half)[np.where(mta_test_y==0)] == 0) / sum(mta_test_y==0) *100,\n",
    "                   sum(clf2.predict(mta_test_half)[np.where(mta_test_y)]) / sum(mta_test_y) *100,\n",
    "                   sum(clf2.predict(tranco_test_half['12'])==0)/len(tranco_test_half['12']) * 100,\n",
    "                   sum(clf2.predict(ms_test_half['12'][\"short\"])==1)/len(ms_test_half['12'][\"short\"]) * 100,\n",
    "                   sum(clf2.predict(ms_test_half['12'][\"long\"])==1)/len(ms_test_half['12'][\"long\"]) * 100\n",
    "]))"
   ]
  },
  {
   "cell_type": "code",
   "execution_count": 31,
   "id": "5ce68cca-d0b0-4bec-8d3c-c694fe722f3f",
   "metadata": {},
   "outputs": [
    {
     "name": "stdout",
     "output_type": "stream",
     "text": [
      "89.90 & 0.00 & 0.00\n"
     ]
    }
   ],
   "source": [
    "print(\" & \".join('{:.2f}'.format(x) for x in [ \n",
    "                   sum(clf2.predict(tranco_test_half['13filter'])==0)/len(tranco_test_half['13filter']) * 100,\n",
    "                   sum(clf2.predict(ms_test_half['13filter'][\"short\"])==1)/len(ms_test_half['13filter'][\"short\"]) * 100,\n",
    "                   sum(clf2.predict(ms_test_half['13filter'][\"long\"])==1)/len(ms_test_half['13filter'][\"long\"]) * 100\n",
    "]))"
   ]
  },
  {
   "cell_type": "code",
   "execution_count": 32,
   "id": "861d0f48-9610-4117-9724-6f3ca502def4",
   "metadata": {},
   "outputs": [
    {
     "name": "stdout",
     "output_type": "stream",
     "text": [
      "98.64 & 93.93 & 93.54 & 97.27\n"
     ]
    }
   ],
   "source": [
    "print(\" & \".join('{:.2f}'.format(x) for x in [ \n",
    "                   sum(clf2.predict(tranco_test_half['13behav'])==0)/len(tranco_test_half['13behav']) * 100,\n",
    "                   sum(clf2.predict(ms_test_half['13behav'][\"short\"])==1)/len(ms_test_half['13behav'][\"short\"]) * 100,\n",
    "                   sum(clf2.predict(ms_test_half['13behav'][\"long\"])==1)/len(ms_test_half['13behav'][\"long\"]) * 100,\n",
    "                   sum(clf2.predict(doh_test_half)==0)/len(doh_test_half) * 100\n",
    "]))"
   ]
  },
  {
   "cell_type": "code",
   "execution_count": 33,
   "id": "c9370d87-ee1e-4cf7-af96-b05e14fab638",
   "metadata": {},
   "outputs": [
    {
     "name": "stdout",
     "output_type": "stream",
     "text": [
      "99.30 & 93.50\n"
     ]
    }
   ],
   "source": [
    "# Motivating Example:\n",
    "np.random.seed(42)\n",
    "\n",
    "me_tranco12 = clf2.predict(tranco_test_half['12'][np.random.choice(range(tranco_test_half['12'].shape[0]),10000,replace=False)])\n",
    "me_tranco13 = clf2.predict(tranco_test_half['13behav'][np.random.choice(range(tranco_test_half['13behav'].shape[0]),10000,replace=False)])\n",
    "me_ms12 = clf2.predict(ms_test_half['12'][\"short\"][np.random.choice(range(ms_test_half['12'][\"short\"].shape[0]),75,replace=False)])\n",
    "me_ms13short = clf2.predict(ms_test_half['13behav'][\"short\"][np.random.choice(range(ms_test_half['13behav'][\"short\"].shape[0]),75,replace=False)])\n",
    "me_ms13long = clf2.predict(ms_test_half['13behav'][\"long\"][np.random.choice(range(ms_test_half['13behav'][\"long\"].shape[0]),50,replace=False)])\n",
    "\n",
    "print(\" & \".join('{:.2f}'.format(x) for x in [\n",
    "    ((sum(me_tranco12 == 0)+sum(me_tranco13 == 0)) / (len(me_tranco12)+len(me_tranco13)) * 100),\n",
    "    ((sum(me_ms12 == 1)+sum(me_ms13short == 1)+sum(me_ms13long == 1)) / (len(me_ms12)+len(me_ms13short)+len(me_ms13long)) * 100)\n",
    "]))"
   ]
  },
  {
   "cell_type": "markdown",
   "id": "c3449b3f-c0cf-41e4-94b0-b214dc7abbd0",
   "metadata": {},
   "source": [
    "## What about RFs?"
   ]
  },
  {
   "cell_type": "code",
   "execution_count": 34,
   "id": "33f70a5a-bf52-4753-a4e4-35810bd3a465",
   "metadata": {},
   "outputs": [],
   "source": [
    "# Skip this if not performing grid search again!\n",
    "rfc = RandomForestClassifier(random_state=42)\n",
    "parameters_rf = {'n_estimators':[40, 50, 60, 70],\n",
    "                 'max_depth': [5, 10, 15, 20, 25, None],\n",
    "                 'max_features': [None, 'sqrt', 'log2'],\n",
    "                 'class_weight': [None, 'balanced']\n",
    "                }\n",
    "#parameters_rf = {'n_estimators':[40,50,60,70], 'max_depth': [5, 10, 20, None]}\n",
    "clf_rf = GridSearchCV(rfc, parameters_rf, n_jobs=-1, scoring=scoring, refit='F1', cv=sgkf)"
   ]
  },
  {
   "cell_type": "code",
   "execution_count": 40,
   "id": "b19f8a4b-7c18-43e7-8a18-b592d69c6ffb",
   "metadata": {},
   "outputs": [
    {
     "name": "stdout",
     "output_type": "stream",
     "text": [
      "0.9334827339968618 {'class_weight': 'balanced', 'max_depth': 20, 'max_features': 'sqrt', 'n_estimators': 70}\n"
     ]
    }
   ],
   "source": [
    "# Skip this if not performing grid search again!\n",
    "clf_rf.fit(x_train_half_err_noerr, y_train_err_noerr, groups=groups_err_noerr)\n",
    "print(clf_rf.best_score_, clf_rf.best_params_)"
   ]
  },
  {
   "cell_type": "code",
   "execution_count": 41,
   "id": "e2d743d8-cc47-4009-a7d3-dcb843d49244",
   "metadata": {},
   "outputs": [
    {
     "data": {
      "text/plain": [
       "{'fit_time': array([7.08787179, 7.39554024, 7.49931502, 7.33064198, 7.16093993,\n",
       "        7.32096338, 7.15544152, 6.94084287, 7.40243268, 7.14355063]),\n",
       " 'score_time': array([0.21103644, 0.21999192, 0.22428608, 0.21192789, 0.21284366,\n",
       "        0.22582054, 0.2346437 , 0.20498586, 0.20584226, 0.21194911]),\n",
       " 'estimator': [RandomForestClassifier(class_weight='balanced', max_depth=20, n_estimators=70,\n",
       "                         random_state=42),\n",
       "  RandomForestClassifier(class_weight='balanced', max_depth=20, n_estimators=70,\n",
       "                         random_state=42),\n",
       "  RandomForestClassifier(class_weight='balanced', max_depth=20, n_estimators=70,\n",
       "                         random_state=42),\n",
       "  RandomForestClassifier(class_weight='balanced', max_depth=20, n_estimators=70,\n",
       "                         random_state=42),\n",
       "  RandomForestClassifier(class_weight='balanced', max_depth=20, n_estimators=70,\n",
       "                         random_state=42),\n",
       "  RandomForestClassifier(class_weight='balanced', max_depth=20, n_estimators=70,\n",
       "                         random_state=42),\n",
       "  RandomForestClassifier(class_weight='balanced', max_depth=20, n_estimators=70,\n",
       "                         random_state=42),\n",
       "  RandomForestClassifier(class_weight='balanced', max_depth=20, n_estimators=70,\n",
       "                         random_state=42),\n",
       "  RandomForestClassifier(class_weight='balanced', max_depth=20, n_estimators=70,\n",
       "                         random_state=42),\n",
       "  RandomForestClassifier(class_weight='balanced', max_depth=20, n_estimators=70,\n",
       "                         random_state=42)],\n",
       " 'test_AUC': array([0.99621409, 0.99543047, 0.99867937, 0.99824177, 0.99829343,\n",
       "        0.99482687, 0.99622616, 0.99640153, 0.99893287, 0.9950993 ]),\n",
       " 'test_Accuracy': array([0.99053823, 0.98641038, 0.99157056, 0.99193423, 0.99114224,\n",
       "        0.98274348, 0.9853364 , 0.99441803, 0.99497513, 0.97980163]),\n",
       " 'test_Balanced Accracy': array([0.97232629, 0.95205017, 0.98209434, 0.97213167, 0.98363253,\n",
       "        0.97297364, 0.9894443 , 0.98570154, 0.9872952 , 0.96141078]),\n",
       " 'test_Recall': array([0.95005675, 0.90996061, 0.97050482, 0.94790487, 0.97441602,\n",
       "        0.96101695, 0.99544903, 0.97504254, 0.97772021, 0.93886708]),\n",
       " 'test_Neg Recall': array([0.99459582, 0.99413974, 0.99368385, 0.99635846, 0.99284904,\n",
       "        0.98493034, 0.98343956, 0.99636053, 0.9968702 , 0.98395448]),\n",
       " 'test_F1': array([0.94817332, 0.92479268, 0.95453278, 0.95547945, 0.95321001,\n",
       "        0.91059957, 0.95544554, 0.96954315, 0.97469008, 0.89542658])}"
      ]
     },
     "metadata": {},
     "output_type": "display_data"
    }
   ],
   "source": [
    "# Skip this if not performing grid search again!\n",
    "scores_rf = cross_validate(clf_rf.best_estimator_, x_train, y_train, groups=groups_train, cv=sgkf, n_jobs=-1, scoring=scoring, return_estimator=True)\n",
    "display(scores_rf)"
   ]
  },
  {
   "cell_type": "code",
   "execution_count": 38,
   "id": "56d3013f-e6b1-4633-b3c0-66703a812f42",
   "metadata": {},
   "outputs": [
    {
     "data": {
      "text/plain": [
       "tls_b_0      0.371215\n",
       "tls_b_1      0.187003\n",
       "tls_b_2      0.099558\n",
       "tls_dir_0    0.084633\n",
       "tls_b_3      0.049187\n",
       "tls_dir_3    0.037631\n",
       "tls_dir_1    0.035464\n",
       "tls_b_4      0.032881\n",
       "tls_dir_2    0.025541\n",
       "tls_b_5      0.018170\n",
       "dtype: float64"
      ]
     },
     "metadata": {},
     "output_type": "display_data"
    }
   ],
   "source": [
    "# Skip this if not performing grid search again!\n",
    "# Print the average feature importance for all CV tree classifiers:\n",
    "feature_importances = []\n",
    "for idx,estimator in enumerate(scores_rf['estimator']):\n",
    "    feature_importances.append(pd.DataFrame(estimator.feature_importances_,\n",
    "                                            index = joy_indices_tls,\n",
    "                                            columns=['importance'+str(idx)]).sort_values('importance'+str(idx), ascending=False))\n",
    "\n",
    "all_feature_importances = reduce(lambda left,right: pd.merge(left,right,how='outer',\n",
    "                                                             left_index=True,\n",
    "                                                             right_index=True), feature_importances)\n",
    "display(all_feature_importances.mean(axis=1).sort_values(ascending=False).head(10))"
   ]
  },
  {
   "cell_type": "code",
   "execution_count": 34,
   "id": "18a3feb8-c55b-44b0-b50f-ce0e4c0609a2",
   "metadata": {},
   "outputs": [
    {
     "data": {
      "text/html": [
       "<style>#sk-container-id-3 {color: black;}#sk-container-id-3 pre{padding: 0;}#sk-container-id-3 div.sk-toggleable {background-color: white;}#sk-container-id-3 label.sk-toggleable__label {cursor: pointer;display: block;width: 100%;margin-bottom: 0;padding: 0.3em;box-sizing: border-box;text-align: center;}#sk-container-id-3 label.sk-toggleable__label-arrow:before {content: \"▸\";float: left;margin-right: 0.25em;color: #696969;}#sk-container-id-3 label.sk-toggleable__label-arrow:hover:before {color: black;}#sk-container-id-3 div.sk-estimator:hover label.sk-toggleable__label-arrow:before {color: black;}#sk-container-id-3 div.sk-toggleable__content {max-height: 0;max-width: 0;overflow: hidden;text-align: left;background-color: #f0f8ff;}#sk-container-id-3 div.sk-toggleable__content pre {margin: 0.2em;color: black;border-radius: 0.25em;background-color: #f0f8ff;}#sk-container-id-3 input.sk-toggleable__control:checked~div.sk-toggleable__content {max-height: 200px;max-width: 100%;overflow: auto;}#sk-container-id-3 input.sk-toggleable__control:checked~label.sk-toggleable__label-arrow:before {content: \"▾\";}#sk-container-id-3 div.sk-estimator input.sk-toggleable__control:checked~label.sk-toggleable__label {background-color: #d4ebff;}#sk-container-id-3 div.sk-label input.sk-toggleable__control:checked~label.sk-toggleable__label {background-color: #d4ebff;}#sk-container-id-3 input.sk-hidden--visually {border: 0;clip: rect(1px 1px 1px 1px);clip: rect(1px, 1px, 1px, 1px);height: 1px;margin: -1px;overflow: hidden;padding: 0;position: absolute;width: 1px;}#sk-container-id-3 div.sk-estimator {font-family: monospace;background-color: #f0f8ff;border: 1px dotted black;border-radius: 0.25em;box-sizing: border-box;margin-bottom: 0.5em;}#sk-container-id-3 div.sk-estimator:hover {background-color: #d4ebff;}#sk-container-id-3 div.sk-parallel-item::after {content: \"\";width: 100%;border-bottom: 1px solid gray;flex-grow: 1;}#sk-container-id-3 div.sk-label:hover label.sk-toggleable__label {background-color: #d4ebff;}#sk-container-id-3 div.sk-serial::before {content: \"\";position: absolute;border-left: 1px solid gray;box-sizing: border-box;top: 0;bottom: 0;left: 50%;z-index: 0;}#sk-container-id-3 div.sk-serial {display: flex;flex-direction: column;align-items: center;background-color: white;padding-right: 0.2em;padding-left: 0.2em;position: relative;}#sk-container-id-3 div.sk-item {position: relative;z-index: 1;}#sk-container-id-3 div.sk-parallel {display: flex;align-items: stretch;justify-content: center;background-color: white;position: relative;}#sk-container-id-3 div.sk-item::before, #sk-container-id-3 div.sk-parallel-item::before {content: \"\";position: absolute;border-left: 1px solid gray;box-sizing: border-box;top: 0;bottom: 0;left: 50%;z-index: -1;}#sk-container-id-3 div.sk-parallel-item {display: flex;flex-direction: column;z-index: 1;position: relative;background-color: white;}#sk-container-id-3 div.sk-parallel-item:first-child::after {align-self: flex-end;width: 50%;}#sk-container-id-3 div.sk-parallel-item:last-child::after {align-self: flex-start;width: 50%;}#sk-container-id-3 div.sk-parallel-item:only-child::after {width: 0;}#sk-container-id-3 div.sk-dashed-wrapped {border: 1px dashed gray;margin: 0 0.4em 0.5em 0.4em;box-sizing: border-box;padding-bottom: 0.4em;background-color: white;}#sk-container-id-3 div.sk-label label {font-family: monospace;font-weight: bold;display: inline-block;line-height: 1.2em;}#sk-container-id-3 div.sk-label-container {text-align: center;}#sk-container-id-3 div.sk-container {/* jupyter's `normalize.less` sets `[hidden] { display: none; }` but bootstrap.min.css set `[hidden] { display: none !important; }` so we also need the `!important` here to be able to override the default hidden behavior on the sphinx rendered scikit-learn.org. See: https://github.com/scikit-learn/scikit-learn/issues/21755 */display: inline-block !important;position: relative;}#sk-container-id-3 div.sk-text-repr-fallback {display: none;}</style><div id=\"sk-container-id-3\" class=\"sk-top-container\"><div class=\"sk-text-repr-fallback\"><pre>RandomForestClassifier(class_weight=&#x27;balanced&#x27;, max_depth=20, n_estimators=70,\n",
       "                       random_state=42)</pre><b>In a Jupyter environment, please rerun this cell to show the HTML representation or trust the notebook. <br />On GitHub, the HTML representation is unable to render, please try loading this page with nbviewer.org.</b></div><div class=\"sk-container\" hidden><div class=\"sk-item\"><div class=\"sk-estimator sk-toggleable\"><input class=\"sk-toggleable__control sk-hidden--visually\" id=\"sk-estimator-id-3\" type=\"checkbox\" checked><label for=\"sk-estimator-id-3\" class=\"sk-toggleable__label sk-toggleable__label-arrow\">RandomForestClassifier</label><div class=\"sk-toggleable__content\"><pre>RandomForestClassifier(class_weight=&#x27;balanced&#x27;, max_depth=20, n_estimators=70,\n",
       "                       random_state=42)</pre></div></div></div></div></div>"
      ],
      "text/plain": [
       "RandomForestClassifier(class_weight='balanced', max_depth=20, n_estimators=70,\n",
       "                       random_state=42)"
      ]
     },
     "execution_count": 34,
     "metadata": {},
     "output_type": "execute_result"
    }
   ],
   "source": [
    "# 0.9334827339968618 {'class_weight': 'balanced', 'max_depth': 20, 'max_features': 'sqrt', 'n_estimators': 70}\n",
    "clf_rf = RandomForestClassifier(random_state=42, class_weight='balanced', max_depth=20, max_features='sqrt', n_estimators=70)\n",
    "clf_rf.fit(x_train_half_err_noerr, y_train_err_noerr)"
   ]
  },
  {
   "cell_type": "code",
   "execution_count": 35,
   "id": "a01d1552-2a0e-46b2-8e24-0adad784d7be",
   "metadata": {},
   "outputs": [
    {
     "name": "stdout",
     "output_type": "stream",
     "text": [
      "91.58 & 97.59 & 99.85 & 99.16 & 99.03\n"
     ]
    }
   ],
   "source": [
    "print(\" & \".join('{:.2f}'.format(x) for x in [ \n",
    "                   sum(clf_rf.predict(mta_test_half)[np.where(mta_test_y==0)] == 0) / sum(mta_test_y==0) *100,\n",
    "                   sum(clf_rf.predict(mta_test_half)[np.where(mta_test_y)]) / sum(mta_test_y) *100,\n",
    "                   sum(clf_rf.predict(tranco_test_half['12'])==0)/len(tranco_test_half['12']) * 100,\n",
    "                   sum(clf_rf.predict(ms_test_half['12'][\"short\"])==1)/len(ms_test_half['12'][\"short\"]) * 100,\n",
    "                   sum(clf_rf.predict(ms_test_half['12'][\"long\"])==1)/len(ms_test_half['12'][\"long\"]) * 100\n",
    "]))"
   ]
  },
  {
   "cell_type": "code",
   "execution_count": 36,
   "id": "45b01aa9-bafc-41ad-a582-869ad41b72e0",
   "metadata": {},
   "outputs": [
    {
     "name": "stdout",
     "output_type": "stream",
     "text": [
      "100.00 & 0.00 & 0.00\n"
     ]
    }
   ],
   "source": [
    "print(\" & \".join('{:.2f}'.format(x) for x in [ \n",
    "                   sum(clf_rf.predict(tranco_test_half['13filter'])==0)/len(tranco_test_half['13filter']) * 100,\n",
    "                   sum(clf_rf.predict(ms_test_half['13filter'][\"short\"])==1)/len(ms_test_half['13filter'][\"short\"]) * 100,\n",
    "                   sum(clf_rf.predict(ms_test_half['13filter'][\"long\"])==1)/len(ms_test_half['13filter'][\"long\"]) * 100\n",
    "]))"
   ]
  },
  {
   "cell_type": "code",
   "execution_count": 37,
   "id": "46f980e1-372d-41ac-8346-eceb479bb40a",
   "metadata": {},
   "outputs": [
    {
     "name": "stdout",
     "output_type": "stream",
     "text": [
      "99.78 & 93.87 & 93.21 & 99.42\n"
     ]
    }
   ],
   "source": [
    "print(\" & \".join('{:.2f}'.format(x) for x in [ \n",
    "                   sum(clf_rf.predict(tranco_test_half['13behav'])==0)/len(tranco_test_half['13behav']) * 100,\n",
    "                   sum(clf_rf.predict(ms_test_half['13behav'][\"short\"])==1)/len(ms_test_half['13behav'][\"short\"]) * 100,\n",
    "                   sum(clf_rf.predict(ms_test_half['13behav'][\"long\"])==1)/len(ms_test_half['13behav'][\"long\"]) * 100,\n",
    "                   sum(clf_rf.predict(doh_test_half)==0)/len(doh_test_half) * 100\n",
    "]))"
   ]
  },
  {
   "cell_type": "code",
   "execution_count": 38,
   "id": "cfe5d26b-8da7-49d4-a3da-77101ff8fe38",
   "metadata": {},
   "outputs": [
    {
     "name": "stdout",
     "output_type": "stream",
     "text": [
      "99.83 & 93.50\n"
     ]
    }
   ],
   "source": [
    "# Motivating Example:\n",
    "np.random.seed(42)\n",
    "\n",
    "me_tranco12 = clf_rf.predict(tranco_test_half['12'][np.random.choice(range(tranco_test_half['12'].shape[0]),10000,replace=False)])\n",
    "me_tranco13 = clf_rf.predict(tranco_test_half['13behav'][np.random.choice(range(tranco_test_half['13behav'].shape[0]),10000,replace=False)])\n",
    "me_ms12 = clf_rf.predict(ms_test_half['12'][\"short\"][np.random.choice(range(ms_test_half['12'][\"short\"].shape[0]),75,replace=False)])\n",
    "me_ms13short = clf_rf.predict(ms_test_half['13behav'][\"short\"][np.random.choice(range(ms_test_half['13behav'][\"short\"].shape[0]),75,replace=False)])\n",
    "me_ms13long = clf_rf.predict(ms_test_half['13behav'][\"long\"][np.random.choice(range(ms_test_half['13behav'][\"long\"].shape[0]),50,replace=False)])\n",
    "\n",
    "print(\" & \".join('{:.2f}'.format(x) for x in [\n",
    "    ((sum(me_tranco12 == 0)+sum(me_tranco13 == 0)) / (len(me_tranco12)+len(me_tranco13)) * 100),\n",
    "    ((sum(me_ms12 == 1)+sum(me_ms13short == 1)+sum(me_ms13long == 1)) / (len(me_ms12)+len(me_ms13short)+len(me_ms13long)) * 100)\n",
    "]))"
   ]
  },
  {
   "cell_type": "markdown",
   "id": "5c0b556f-c6b0-45d2-aead-607b48648da9",
   "metadata": {},
   "source": [
    "## UCNet"
   ]
  },
  {
   "cell_type": "code",
   "execution_count": null,
   "id": "76f64f5a-157b-4f06-8b09-d77e7b161157",
   "metadata": {},
   "outputs": [],
   "source": [
    "realnet_all12 = pd.read_csv('data/ucnet/all_data12.csv', index_col=0)\n",
    "realnet_all13filter = pd.read_csv('data/ucnet/all_data13.csv', index_col=0)"
   ]
  },
  {
   "cell_type": "code",
   "execution_count": null,
   "id": "7c05d592-9f8e-48c2-899a-93c187a0782d",
   "metadata": {},
   "outputs": [],
   "source": [
    "realnet_all13behav = pd.read_csv('data/ucnet/all_behav13_new.csv', index_col=0)\n",
    "\n",
    "realnet_test = {\n",
    "    '12': realnet_all12.loc[:,joy_indices_tls_half].values.astype(np.float64),\n",
    "    '13filter': realnet_all13filter.loc[:, joy_indices_tls_half].values.astype(np.float64),\n",
    "    '13behav': realnet_all13behav.loc[:, joy_indices_tls_half].values.astype(np.float64),\n",
    "}"
   ]
  },
  {
   "cell_type": "code",
   "execution_count": 82,
   "id": "49eaa1bd-ca60-456d-b1cc-b93df650eb25",
   "metadata": {},
   "outputs": [
    {
     "name": "stdout",
     "output_type": "stream",
     "text": [
      "0.9039330321872493 0.9569316872825084\n",
      "0.8782679340038034 0.9999989584481572\n",
      "0.9228153058268326 0.9634656606143835\n"
     ]
    }
   ],
   "source": [
    "print(sum(clf2.predict(realnet_test['12'])==0) / len(realnet_test['12']),\n",
    "      sum(clf_rf.predict(realnet_test['12'])==0) / len(realnet_test['12']))\n",
    "\n",
    "print(sum(clf2.predict(realnet_test['13filter'])==0) / len(realnet_test['13filter']),\n",
    "      sum(clf_rf.predict(realnet_test['13filter'])==0) / len(realnet_test['13filter']))\n",
    "\n",
    "print(sum(clf2.predict(realnet_test['13behav'])==0) / len(realnet_test['13behav']),\n",
    "      sum(clf_rf.predict(realnet_test['13behav'])==0) / len(realnet_test['13behav']))"
   ]
  }
 ],
 "metadata": {
  "kernelspec": {
   "display_name": "Python 3 (ipykernel)",
   "language": "python",
   "name": "python3"
  },
  "language_info": {
   "codemirror_mode": {
    "name": "ipython",
    "version": 3
   },
   "file_extension": ".py",
   "mimetype": "text/x-python",
   "name": "python",
   "nbconvert_exporter": "python",
   "pygments_lexer": "ipython3",
   "version": "3.10.6"
  }
 },
 "nbformat": 4,
 "nbformat_minor": 5
}
