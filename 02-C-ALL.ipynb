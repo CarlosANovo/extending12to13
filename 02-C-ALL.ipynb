{
 "cells": [
  {
   "cell_type": "code",
   "execution_count": 1,
   "id": "4b5e1ea2-6ef2-4ea9-a28e-28ace000b2cf",
   "metadata": {},
   "outputs": [],
   "source": [
    "import pandas as pd\n",
    "import numpy as np\n",
    "\n",
    "from sklearn.model_selection import train_test_split\n",
    "from sklearn.utils import shuffle\n",
    "from sklearn.ensemble import RandomForestClassifier\n",
    "from sklearn.model_selection import cross_validate\n",
    "from sklearn.metrics import recall_score, make_scorer\n",
    "\n",
    "# Decision tree with cross validation:\n",
    "from sklearn.tree import DecisionTreeClassifier as dtc # tree algorithm\n",
    "from sklearn.model_selection import GridSearchCV\n",
    "from sklearn.model_selection import StratifiedGroupKFold\n",
    "\n",
    "from functools import reduce"
   ]
  },
  {
   "cell_type": "code",
   "execution_count": 2,
   "id": "51b74ee8-64f5-4e6a-8fd2-89d4b0e59b78",
   "metadata": {},
   "outputs": [],
   "source": [
    "tls_tps = ['tls_tp_'+str(x) for x in range(20)]\n",
    "tls_bs = ['tls_b_'+str(x) for x in range(20)]\n",
    "tls_dir = ['tls_dir_'+str(x) for x in range(20)]\n",
    "joy_indices_tls = tls_bs + tls_dir"
   ]
  },
  {
   "cell_type": "markdown",
   "id": "5b0dc9e4-acb9-459f-a5ca-b97246774c85",
   "metadata": {},
   "source": [
    "### Loading data:"
   ]
  },
  {
   "cell_type": "code",
   "execution_count": 3,
   "id": "cc33676b-29a1-4f9b-a58f-c3c3e7fc4f6c",
   "metadata": {},
   "outputs": [],
   "source": [
    "labeled_mta = pd.read_csv('processed-datasets/labeled_mta.csv', low_memory=False)\n",
    "# MTA files range from 4 to 2345"
   ]
  },
  {
   "cell_type": "code",
   "execution_count": 4,
   "id": "a8b7ab96-56eb-464c-8446-5f0f18d78cc8",
   "metadata": {},
   "outputs": [
    {
     "data": {
      "text/plain": [
       "0         10000\n",
       "1         10000\n",
       "2         10000\n",
       "3         10000\n",
       "4         10000\n",
       "          ...  \n",
       "505933    11999\n",
       "505934    11999\n",
       "505935    11999\n",
       "505936    11999\n",
       "505937    11999\n",
       "Name: file, Length: 505938, dtype: int16"
      ]
     },
     "execution_count": 4,
     "metadata": {},
     "output_type": "execute_result"
    }
   ],
   "source": [
    "tranco_joy = pd.read_csv('processed-datasets/tranco-dataset.csv', low_memory=False)\n",
    "tranco_joy['c2'] = 0\n",
    "\n",
    "# There are 2000 tranco files. We will assign an ID from 10000 to 11999\n",
    "# so that they don't overlap with MTA.\n",
    "tranco_joy['file_cat'] = tranco_joy['file'].astype('category')\n",
    "tranco_joy['file'] = tranco_joy['file_cat'].cat.codes\n",
    "tranco_joy['file'] = tranco_joy['file'] + 10000\n",
    "tranco_joy['file']"
   ]
  },
  {
   "cell_type": "code",
   "execution_count": 5,
   "id": "16d78ea5-5dcd-41f0-b131-39459de19857",
   "metadata": {},
   "outputs": [],
   "source": [
    "metasploit_joy = pd.read_csv('processed-datasets/ms-full.csv')\n",
    "metasploit_joy['c2'] = 1\n",
    "metasploit_joy['source'] = 'MS'\n",
    "\n",
    "# For metasploit there are 44 combinations of (command, tlsversion, certificate).\n",
    "# These will be used as a file id. From 20000 onwards to avoid overlap.\n",
    "metasploit_joy['file'] = metasploit_joy.groupby(['command', 'tlsver', 'certver']).ngroup() + 20000"
   ]
  },
  {
   "cell_type": "code",
   "execution_count": 6,
   "id": "c14abc97-858f-491c-8d6f-dfefc16a597e",
   "metadata": {},
   "outputs": [],
   "source": [
    "full_df_with_resumes = pd.concat([labeled_mta, tranco_joy], ignore_index=True)\n",
    "full_df_with_resumes = shuffle(full_df_with_resumes, random_state=42)\n",
    "\n",
    "full_df = full_df_with_resumes[(full_df_with_resumes['session_resumed'] == False)|(full_df_with_resumes['s_psk'] == -1)].reset_index(drop=True)"
   ]
  },
  {
   "cell_type": "code",
   "execution_count": 7,
   "id": "7136ddae-d1df-475e-a53b-08e07664597a",
   "metadata": {},
   "outputs": [],
   "source": [
    "full_df_12 = full_df[full_df['tls_version_guess'] == 'TLS 1.2'].copy()\n",
    "full_df_12.reset_index(drop=True, inplace=True)"
   ]
  },
  {
   "cell_type": "code",
   "execution_count": 8,
   "id": "3dd29dd0-8b28-4581-b94f-794a0bb724db",
   "metadata": {},
   "outputs": [],
   "source": [
    "# Take ~20% of Tranco and MTA for final testing. These should be taken considering groups.\n",
    "# This can pottentially make 5 folds, and the experiment could be repeated.\n",
    "# Worth doing, or just do this single experiment?\n",
    "\n",
    "# X and Y composed only of MTA and Tranco 1.2.\n",
    "# StratifiedGroupKFold to take 20% out for final testing.\n",
    "x = full_df_12.loc[:,joy_indices_tls].values.astype(np.float64)\n",
    "y = full_df_12['c2'].values\n",
    "groups = full_df_12['file'].values"
   ]
  },
  {
   "cell_type": "code",
   "execution_count": 9,
   "id": "8bef7c73-8997-4529-b2a3-9fc454a9391f",
   "metadata": {},
   "outputs": [],
   "source": [
    "sgkf = StratifiedGroupKFold(n_splits=5)\n",
    "# Take 1 fold/split, as our traing/test split:\n",
    "train_index, test_index = next(sgkf.split(x, y, groups))\n",
    "# groups = groups[train_index]"
   ]
  },
  {
   "cell_type": "code",
   "execution_count": 10,
   "id": "aded9047-2696-4222-a27f-97b52ecf713b",
   "metadata": {},
   "outputs": [],
   "source": [
    "# Metasploit 1.2 Short -- take 50% of files for testing only.\n",
    "# Out of the reamining 50%, take only 50% of each file for testing too.\n",
    "# Only 50% of 50% is used for training/validation in StratifiedGroupKFold fashion.\n",
    "# Metasploit 1.3 is all used for testing. Never for training -- We assume we don't have its groundtruth.\n",
    "\n",
    "# These test files won't be used for training/validation at all:\n",
    "# (can we catch an MS deployment we haven't seen before?)\n",
    "tls12long_and_tls13_samples = (metasploit_joy['tlsver'] == 'tls13')|((metasploit_joy['tlsver'] == 'tls12') & (metasploit_joy['certver'] == 'longcert'))\n",
    "tls12long_and_tls13_files = metasploit_joy[tls12long_and_tls13_samples]['file'].unique()\n",
    "\n",
    "np.random.seed(42)\n",
    "metasploit_test_files = np.random.choice(\n",
    "    metasploit_joy[~metasploit_joy['file'].isin(tls12long_and_tls13_files)]['file'].unique(),\n",
    "    metasploit_joy[~metasploit_joy['file'].isin(tls12long_and_tls13_files)]['file'].nunique()//2,\n",
    "    replace=False\n",
    ")\n",
    "\n",
    "all_test_files = np.append(metasploit_test_files, tls12long_and_tls13_files)"
   ]
  },
  {
   "cell_type": "code",
   "execution_count": 11,
   "id": "1759423f-e11b-49b6-8640-e17b764dec76",
   "metadata": {},
   "outputs": [],
   "source": [
    "# Out of the remaining files, we will also take 50% of traffic for testing\n",
    "# (can we effectively catch traffic from deployments we have seen before?)\n",
    "metasploit_train_samples, metasploit_test_samples_short12 = train_test_split(\n",
    "    metasploit_joy[~metasploit_joy['file'].isin(all_test_files)].index,\n",
    "    test_size=0.9,\n",
    "    random_state=42,\n",
    ")\n",
    "\n",
    "metasploit_test_samples = np.append(metasploit_joy[metasploit_joy['file'].isin(all_test_files)].index, metasploit_test_samples_short12)"
   ]
  },
  {
   "cell_type": "code",
   "execution_count": 12,
   "id": "4c2821af-7a43-49f5-80d7-cbbf62c62e7c",
   "metadata": {},
   "outputs": [
    {
     "data": {
      "text/plain": [
       "certver\n",
       "shortcert    73146\n",
       "Name: count, dtype: int64"
      ]
     },
     "execution_count": 12,
     "metadata": {},
     "output_type": "execute_result"
    }
   ],
   "source": [
    "metasploit_joy[~metasploit_joy['file'].isin(all_test_files)]['certver'].value_counts()"
   ]
  },
  {
   "cell_type": "code",
   "execution_count": 13,
   "id": "492870b5-5027-42da-bc21-a846f77cfc90",
   "metadata": {},
   "outputs": [
    {
     "data": {
      "text/plain": [
       "source\n",
       "tranco    225758\n",
       "MTA        28988\n",
       "MS          7314\n",
       "Name: count, dtype: int64"
      ]
     },
     "metadata": {},
     "output_type": "display_data"
    }
   ],
   "source": [
    "# Now we combine MS 1.2 short (train), with the previous training samples obtained from the StratifiedGroupKFold.\n",
    "# These are used with Cross Validation to train RFCs and DecTrees. CV should be sgkf as well.\n",
    "# Using CV we will choose the best parameters (tree depth, number of estimators, whatever...),\n",
    "# and then use those parameters to train a \"final model\", that we will apply to the \"test set\".\n",
    "\n",
    "train_df = shuffle(pd.concat([\n",
    "    metasploit_joy.loc[metasploit_train_samples],\n",
    "    full_df_12.loc[train_index]\n",
    "], ignore_index=True), random_state=42).reset_index(drop=True)\n",
    "\n",
    "display(train_df['source'].value_counts())\n",
    "\n",
    "x_train = train_df.loc[:,joy_indices_tls].values.astype(np.float64)\n",
    "y_train = train_df['c2'].values\n",
    "groups_train = train_df['file'].values"
   ]
  },
  {
   "cell_type": "code",
   "execution_count": 14,
   "id": "4f62b067-7c69-4454-be53-4bcf295816ad",
   "metadata": {},
   "outputs": [],
   "source": [
    "# For the test set, we should display results separated by (sub)datasets:\n",
    "# Tranco 1.2/1.3 (TNRs); MTA (TPR, TNR); MS 1.2/1.3 short/long (TPRs); DoH? (TNR)\n",
    "tranco_test = {\n",
    "    12: full_df.loc[test_index][(full_df.loc[test_index, 'source'] == 'tranco') & (full_df.loc[test_index, 'tls_version_guess'] == 'TLS 1.2')].loc[:,joy_indices_tls].values.astype(np.float64),\n",
    "    13: tranco_joy.loc[tranco_joy['tls_version_guess'] == 'TLS 1.3', joy_indices_tls].values.astype(np.float64),\n",
    "}\n",
    "mta_test = full_df.loc[test_index][full_df.loc[test_index, 'source'] == 'MTA'].loc[:,joy_indices_tls].values.astype(np.float64)\n",
    "mta_test_y = full_df.loc[test_index][full_df.loc[test_index, 'source'] == 'MTA'].loc[:,'c2'].values\n",
    "\n",
    "ms_test = {\n",
    "    12: {\"short\": metasploit_joy.loc[metasploit_test_samples].loc[(metasploit_joy.loc[metasploit_test_samples]['tlsver'] == 'tls12') & (metasploit_joy.loc[metasploit_test_samples]['certver'] == 'shortcert'), joy_indices_tls].values.astype(np.float64),\n",
    "         \"long\":  metasploit_joy.loc[metasploit_test_samples].loc[(metasploit_joy.loc[metasploit_test_samples]['tlsver'] == 'tls12') & (metasploit_joy.loc[metasploit_test_samples]['certver'] == 'longcert'), joy_indices_tls].values.astype(np.float64)},\n",
    "    13: {\"short\": metasploit_joy.loc[(metasploit_joy['tlsver'] == 'tls13') & (metasploit_joy['certver'] == 'shortcert'), joy_indices_tls].values.astype(np.float64),\n",
    "         \"long\":  metasploit_joy.loc[(metasploit_joy['tlsver'] == 'tls13') & (metasploit_joy['certver'] == 'longcert'), joy_indices_tls].values.astype(np.float64)}\n",
    "}"
   ]
  },
  {
   "cell_type": "markdown",
   "id": "9190f9b4-cb68-4591-b379-1684b4573377",
   "metadata": {},
   "source": [
    "## Training"
   ]
  },
  {
   "cell_type": "code",
   "execution_count": 15,
   "id": "7b728710-c3d0-4798-b880-369568e9fc94",
   "metadata": {},
   "outputs": [],
   "source": [
    "scoring = {\"AUC\": \"roc_auc\",\n",
    "           \"Accuracy\": \"accuracy\",\n",
    "           \"Balanced Accracy\": \"balanced_accuracy\",\n",
    "           \"Recall\": \"recall\",\n",
    "           \"Neg Recall\": make_scorer(recall_score, pos_label=0),\n",
    "           \"F1\": \"f1\"}\n",
    "\n",
    "sgkf = StratifiedGroupKFold(n_splits=10)"
   ]
  },
  {
   "cell_type": "code",
   "execution_count": 16,
   "id": "31d0c3cb-44f4-4cb7-a852-86f30a7c1a3b",
   "metadata": {},
   "outputs": [],
   "source": [
    "dtc_classifier = dtc(random_state=42)\n",
    "parameters = {'max_depth':list(range(1,20))+[30,40,50,60], \n",
    "              'criterion': ['gini', 'entropy'], \n",
    "              'splitter': ['best', 'random'], \n",
    "              'max_features': [None, 'sqrt', 'log2'],\n",
    "              'class_weight': [None, 'balanced']}\n",
    "clf = GridSearchCV(dtc_classifier, parameters, n_jobs=-1, scoring=scoring, refit='F1', cv=sgkf)"
   ]
  },
  {
   "cell_type": "code",
   "execution_count": 17,
   "id": "58ade37e-5e3c-4acd-803f-a91e2e852bdc",
   "metadata": {},
   "outputs": [],
   "source": [
    "# Skip this if not performing grid search again.\n",
    "# clf.fit(x_train, y_train, groups=groups_train)\n",
    "# print(clf.best_score_, clf.best_params_)\n",
    "# clf.cv_results_\n",
    "# 0.966298722793853 {'class_weight': None, 'criterion': 'gini', 'max_depth': 16, 'max_features': None, 'splitter': 'best'}"
   ]
  },
  {
   "cell_type": "code",
   "execution_count": 29,
   "id": "56b60c04-27f2-49ed-a2fe-3b7760b8a849",
   "metadata": {},
   "outputs": [
    {
     "data": {
      "text/plain": [
       "{'fit_time': array([1.78152275, 1.57804203, 1.73124933, 1.98099375, 1.66869235,\n",
       "        1.55350852, 1.80737543, 1.62125802, 1.71402121, 1.52401829]),\n",
       " 'score_time': array([0.04558277, 0.04478908, 0.04452682, 0.04931736, 0.04899573,\n",
       "        0.04472017, 0.04792953, 0.044801  , 0.04540658, 0.05142808]),\n",
       " 'estimator': [DecisionTreeClassifier(max_depth=16, random_state=42),\n",
       "  DecisionTreeClassifier(max_depth=16, random_state=42),\n",
       "  DecisionTreeClassifier(max_depth=16, random_state=42),\n",
       "  DecisionTreeClassifier(max_depth=16, random_state=42),\n",
       "  DecisionTreeClassifier(max_depth=16, random_state=42),\n",
       "  DecisionTreeClassifier(max_depth=16, random_state=42),\n",
       "  DecisionTreeClassifier(max_depth=16, random_state=42),\n",
       "  DecisionTreeClassifier(max_depth=16, random_state=42),\n",
       "  DecisionTreeClassifier(max_depth=16, random_state=42),\n",
       "  DecisionTreeClassifier(max_depth=16, random_state=42)],\n",
       " 'test_AUC': array([0.98497039, 0.96679266, 0.99411598, 0.9775256 , 0.99313818,\n",
       "        0.998679  , 0.99457532, 0.98931326, 0.95458378, 0.9832789 ]),\n",
       " 'test_Accuracy': array([0.99360973, 0.99208727, 0.99503407, 0.99557522, 0.99757478,\n",
       "        0.99884611, 0.99680548, 0.99603694, 0.98991221, 0.9875364 ]),\n",
       " 'test_Balanced Accracy': array([0.97864252, 0.96121841, 0.99266853, 0.9757653 , 0.99124071,\n",
       "        0.99845061, 0.9917588 , 0.98466978, 0.95351582, 0.97331277]),\n",
       " 'test_Recall': array([0.96099291, 0.92472582, 0.98987854, 0.95240506, 0.98377282,\n",
       "        0.99798387, 0.98580841, 0.97125567, 0.91061453, 0.953125  ]),\n",
       " 'test_Neg Recall': array([0.99629213, 0.997711  , 0.99545852, 0.99912555, 0.9987086 ,\n",
       "        0.99891734, 0.99770919, 0.99808389, 0.99641711, 0.99350054]),\n",
       " 'test_F1': array([0.95808081, 0.9473953 , 0.96807721, 0.97033789, 0.98402232,\n",
       "        0.9924812 , 0.97910899, 0.97395702, 0.93191268, 0.95761381])}"
      ]
     },
     "metadata": {},
     "output_type": "display_data"
    },
    {
     "data": {
      "text/plain": [
       "tls_b_0     0.501670\n",
       "tls_b_2     0.277984\n",
       "tls_b_6     0.122010\n",
       "tls_b_1     0.042179\n",
       "tls_b_4     0.014376\n",
       "tls_b_7     0.010433\n",
       "tls_b_11    0.007931\n",
       "tls_b_10    0.004608\n",
       "tls_b_12    0.003297\n",
       "tls_b_9     0.002802\n",
       "dtype: float64"
      ]
     },
     "metadata": {},
     "output_type": "display_data"
    }
   ],
   "source": [
    "# Skip this if not performing grid search again.\n",
    "# Now that we have the \"best parameters\", print some metrics:\n",
    "tree_model = clf.best_estimator_\n",
    "scores_dtc = cross_validate(clf.best_estimator_, x_train, y_train, groups=groups_train, cv=sgkf, n_jobs=-1, scoring=scoring, return_estimator=True)\n",
    "display(scores_dtc)\n",
    "\n",
    "# Print the average feature importance for all CV tree classifiers:\n",
    "feature_importances = []\n",
    "for idx,estimator in enumerate(scores_dtc['estimator']):\n",
    "    feature_importances.append(pd.DataFrame(estimator.feature_importances_,\n",
    "                                            index = joy_indices_tls,\n",
    "                                            columns=['importance'+str(idx)]).sort_values('importance'+str(idx), ascending=False))\n",
    "\n",
    "all_feature_importances = reduce(lambda left,right: pd.merge(left,right,how='outer',\n",
    "                                                             left_index=True,\n",
    "                                                             right_index=True), feature_importances)\n",
    "display(all_feature_importances.mean(axis=1).sort_values(ascending=False).head(10))"
   ]
  },
  {
   "cell_type": "code",
   "execution_count": null,
   "id": "737dba6a-f97e-41fd-aad7-11206a837f2d",
   "metadata": {},
   "outputs": [],
   "source": [
    "# Skip this if not performing grid search again.\n",
    "# We will take the estimator with the best performance, train on all train data, apply to test data:\n",
    "tree_model = clf.best_estimator_\n",
    "tree_model.fit(x_train, y_train)"
   ]
  },
  {
   "cell_type": "code",
   "execution_count": 18,
   "id": "3b279d87-c68d-41dd-ac1b-63de2f62f6f2",
   "metadata": {},
   "outputs": [
    {
     "data": {
      "text/html": [
       "<style>#sk-container-id-1 {color: black;}#sk-container-id-1 pre{padding: 0;}#sk-container-id-1 div.sk-toggleable {background-color: white;}#sk-container-id-1 label.sk-toggleable__label {cursor: pointer;display: block;width: 100%;margin-bottom: 0;padding: 0.3em;box-sizing: border-box;text-align: center;}#sk-container-id-1 label.sk-toggleable__label-arrow:before {content: \"▸\";float: left;margin-right: 0.25em;color: #696969;}#sk-container-id-1 label.sk-toggleable__label-arrow:hover:before {color: black;}#sk-container-id-1 div.sk-estimator:hover label.sk-toggleable__label-arrow:before {color: black;}#sk-container-id-1 div.sk-toggleable__content {max-height: 0;max-width: 0;overflow: hidden;text-align: left;background-color: #f0f8ff;}#sk-container-id-1 div.sk-toggleable__content pre {margin: 0.2em;color: black;border-radius: 0.25em;background-color: #f0f8ff;}#sk-container-id-1 input.sk-toggleable__control:checked~div.sk-toggleable__content {max-height: 200px;max-width: 100%;overflow: auto;}#sk-container-id-1 input.sk-toggleable__control:checked~label.sk-toggleable__label-arrow:before {content: \"▾\";}#sk-container-id-1 div.sk-estimator input.sk-toggleable__control:checked~label.sk-toggleable__label {background-color: #d4ebff;}#sk-container-id-1 div.sk-label input.sk-toggleable__control:checked~label.sk-toggleable__label {background-color: #d4ebff;}#sk-container-id-1 input.sk-hidden--visually {border: 0;clip: rect(1px 1px 1px 1px);clip: rect(1px, 1px, 1px, 1px);height: 1px;margin: -1px;overflow: hidden;padding: 0;position: absolute;width: 1px;}#sk-container-id-1 div.sk-estimator {font-family: monospace;background-color: #f0f8ff;border: 1px dotted black;border-radius: 0.25em;box-sizing: border-box;margin-bottom: 0.5em;}#sk-container-id-1 div.sk-estimator:hover {background-color: #d4ebff;}#sk-container-id-1 div.sk-parallel-item::after {content: \"\";width: 100%;border-bottom: 1px solid gray;flex-grow: 1;}#sk-container-id-1 div.sk-label:hover label.sk-toggleable__label {background-color: #d4ebff;}#sk-container-id-1 div.sk-serial::before {content: \"\";position: absolute;border-left: 1px solid gray;box-sizing: border-box;top: 0;bottom: 0;left: 50%;z-index: 0;}#sk-container-id-1 div.sk-serial {display: flex;flex-direction: column;align-items: center;background-color: white;padding-right: 0.2em;padding-left: 0.2em;position: relative;}#sk-container-id-1 div.sk-item {position: relative;z-index: 1;}#sk-container-id-1 div.sk-parallel {display: flex;align-items: stretch;justify-content: center;background-color: white;position: relative;}#sk-container-id-1 div.sk-item::before, #sk-container-id-1 div.sk-parallel-item::before {content: \"\";position: absolute;border-left: 1px solid gray;box-sizing: border-box;top: 0;bottom: 0;left: 50%;z-index: -1;}#sk-container-id-1 div.sk-parallel-item {display: flex;flex-direction: column;z-index: 1;position: relative;background-color: white;}#sk-container-id-1 div.sk-parallel-item:first-child::after {align-self: flex-end;width: 50%;}#sk-container-id-1 div.sk-parallel-item:last-child::after {align-self: flex-start;width: 50%;}#sk-container-id-1 div.sk-parallel-item:only-child::after {width: 0;}#sk-container-id-1 div.sk-dashed-wrapped {border: 1px dashed gray;margin: 0 0.4em 0.5em 0.4em;box-sizing: border-box;padding-bottom: 0.4em;background-color: white;}#sk-container-id-1 div.sk-label label {font-family: monospace;font-weight: bold;display: inline-block;line-height: 1.2em;}#sk-container-id-1 div.sk-label-container {text-align: center;}#sk-container-id-1 div.sk-container {/* jupyter's `normalize.less` sets `[hidden] { display: none; }` but bootstrap.min.css set `[hidden] { display: none !important; }` so we also need the `!important` here to be able to override the default hidden behavior on the sphinx rendered scikit-learn.org. See: https://github.com/scikit-learn/scikit-learn/issues/21755 */display: inline-block !important;position: relative;}#sk-container-id-1 div.sk-text-repr-fallback {display: none;}</style><div id=\"sk-container-id-1\" class=\"sk-top-container\"><div class=\"sk-text-repr-fallback\"><pre>DecisionTreeClassifier(max_depth=16, random_state=42)</pre><b>In a Jupyter environment, please rerun this cell to show the HTML representation or trust the notebook. <br />On GitHub, the HTML representation is unable to render, please try loading this page with nbviewer.org.</b></div><div class=\"sk-container\" hidden><div class=\"sk-item\"><div class=\"sk-estimator sk-toggleable\"><input class=\"sk-toggleable__control sk-hidden--visually\" id=\"sk-estimator-id-1\" type=\"checkbox\" checked><label for=\"sk-estimator-id-1\" class=\"sk-toggleable__label sk-toggleable__label-arrow\">DecisionTreeClassifier</label><div class=\"sk-toggleable__content\"><pre>DecisionTreeClassifier(max_depth=16, random_state=42)</pre></div></div></div></div></div>"
      ],
      "text/plain": [
       "DecisionTreeClassifier(max_depth=16, random_state=42)"
      ]
     },
     "execution_count": 18,
     "metadata": {},
     "output_type": "execute_result"
    }
   ],
   "source": [
    "# Instead of doing grid search again, use previous parameters:\n",
    "tree_model = dtc(random_state=42, class_weight=None, criterion='gini', max_depth=16, max_features=None, splitter='best')\n",
    "tree_model.fit(x_train, y_train)"
   ]
  },
  {
   "cell_type": "markdown",
   "id": "f510b2c1-e897-4042-9f6b-ba0cd4441e0b",
   "metadata": {},
   "source": [
    "## Evaluation on the test set"
   ]
  },
  {
   "cell_type": "code",
   "execution_count": 19,
   "id": "8367540e-d998-4ee3-8e36-89540d67468f",
   "metadata": {},
   "outputs": [
    {
     "name": "stderr",
     "output_type": "stream",
     "text": [
      "/tmp/ipykernel_1208/1185750639.py:1: DtypeWarning: Columns (8,94) have mixed types. Specify dtype option on import or set low_memory=False.\n",
      "  doh_df = pd.read_csv('data/doh/joy-tls-versions-certinf-joypatched.csv')\n"
     ]
    }
   ],
   "source": [
    "doh_df = pd.read_csv('data/doh/joy-tls-versions-certinf-joypatched.csv')"
   ]
  },
  {
   "cell_type": "code",
   "execution_count": 20,
   "id": "f4f518ce-3635-47a3-8bb2-9be2286dada3",
   "metadata": {},
   "outputs": [
    {
     "name": "stdout",
     "output_type": "stream",
     "text": [
      "2479\n"
     ]
    }
   ],
   "source": [
    "bad_rows = doh_df[( (doh_df[tls_tps]>23).any(axis=1) |\\\n",
    "                    (((doh_df[tls_tps]<20)&(doh_df[tls_tps]>1)).any(axis=1)) \\\n",
    "                  ) & (doh_df['tls_version_guess'] == 'TLS 1.3') & (doh_df['s_psk'] == -1)].index\n",
    "print(len(bad_rows))\n",
    "doh_df.drop(bad_rows, inplace=True)"
   ]
  },
  {
   "cell_type": "code",
   "execution_count": 21,
   "id": "b8ae1c15-2b7b-461c-be19-196e7799e864",
   "metadata": {},
   "outputs": [],
   "source": [
    "doh_df['c2'] = 0\n",
    "doh_df.loc[doh_df['file'].str.startswith('e') |\n",
    "           doh_df['file'].str.startswith('f') |\n",
    "           doh_df['file'].str.startswith('g'), 'c2'] = 1"
   ]
  },
  {
   "cell_type": "code",
   "execution_count": 22,
   "id": "be5c7aeb-6a96-430a-97fd-69ca125b447c",
   "metadata": {},
   "outputs": [],
   "source": [
    "doh_df_all_benign = doh_df.loc[(doh_df['tls_version_guess'] == 'TLS 1.3') & (doh_df['s_psk'] == -1) & (doh_df['c2'] == 0), joy_indices_tls].values.astype(np.float64)\n",
    "doh_df_all_malicious = doh_df.loc[(doh_df['tls_version_guess'] == 'TLS 1.3') & (doh_df['s_psk'] == -1) & (doh_df['c2'] == 1), joy_indices_tls].values.astype(np.float64)"
   ]
  },
  {
   "cell_type": "code",
   "execution_count": 23,
   "id": "8eb5314a-f237-40b9-9d27-91cbd66055b6",
   "metadata": {},
   "outputs": [
    {
     "name": "stdout",
     "output_type": "stream",
     "text": [
      "96.87 & 98.82 & 100.00 & 99.98 & 100.00 & 0.00 & 0.00 & 0.00 & 99.98\n"
     ]
    }
   ],
   "source": [
    "print(\" & \".join('{:.2f}'.format(x) for x in [ sum(tree_model.predict(mta_test)[np.where(mta_test_y==0)] == 0) / sum(mta_test_y==0) *100,\n",
    "                   sum(tree_model.predict(mta_test)[np.where(mta_test_y)]) / sum(mta_test_y) *100,\n",
    "                   sum(tree_model.predict(tranco_test[12])==0)/len(tranco_test[12]) * 100,\n",
    "                   sum(tree_model.predict(tranco_test[13])==0)/len(tranco_test[13]) * 100,\n",
    "                   sum(tree_model.predict(ms_test[12][\"short\"])==1)/len(ms_test[12][\"short\"]) * 100,\n",
    "                   sum(tree_model.predict(ms_test[12][\"long\"])==1)/len(ms_test[12][\"long\"]) * 100,\n",
    "                   sum(tree_model.predict(ms_test[13][\"short\"])==1)/len(ms_test[13][\"short\"]) * 100,\n",
    "                   sum(tree_model.predict(ms_test[13][\"long\"])==1)/len(ms_test[13][\"long\"]) * 100,\n",
    "                   sum(tree_model.predict(doh_df_all_benign)==0)/len(doh_df_all_benign) * 100]))"
   ]
  },
  {
   "cell_type": "code",
   "execution_count": 24,
   "id": "44f9d2e3-f15b-4335-aedb-3b95f479e2ca",
   "metadata": {},
   "outputs": [
    {
     "name": "stdout",
     "output_type": "stream",
     "text": [
      "100.00 & 99.98 & 100.00 & 0.00 & 0.00\n"
     ]
    }
   ],
   "source": [
    "# Motivating Example:\n",
    "np.random.seed(42)\n",
    "\n",
    "me_tranco12 = tree_model.predict(tranco_test[12][np.random.choice(range(tranco_test[12].shape[0]),10000,replace=False)])\n",
    "me_tranco13 = tree_model.predict(tranco_test[13][np.random.choice(range(tranco_test[13].shape[0]),10000,replace=False)])\n",
    "me_ms12 = tree_model.predict(ms_test[12][\"short\"][np.random.choice(range(ms_test[12][\"short\"].shape[0]),75,replace=False)])\n",
    "me_ms13short = tree_model.predict(ms_test[13][\"short\"][np.random.choice(range(ms_test[13][\"short\"].shape[0]),75,replace=False)])\n",
    "me_ms13long = tree_model.predict(ms_test[13][\"long\"][np.random.choice(range(ms_test[13][\"long\"].shape[0]),50,replace=False)])\n",
    "\n",
    "print(\" & \".join('{:.2f}'.format(x) for x in [\n",
    "    (sum(me_tranco12 == 0) / len(me_tranco12) * 100),\n",
    "    (sum(me_tranco13 == 0) / len(me_tranco13) * 100),\n",
    "    (sum(me_ms12 == 1) / len(me_ms12) * 100),\n",
    "    (sum(me_ms13short == 1) / len(me_ms13short) * 100),\n",
    "    (sum(me_ms13long == 1) / len(me_ms13long) * 100)\n",
    "]))"
   ]
  },
  {
   "cell_type": "markdown",
   "id": "020492bb-efef-4c59-b8df-c774eefdf87f",
   "metadata": {},
   "source": [
    "## RFs"
   ]
  },
  {
   "cell_type": "code",
   "execution_count": 25,
   "id": "a6f5d458-8622-4d3a-bb78-c77f37e3f889",
   "metadata": {},
   "outputs": [],
   "source": [
    "rfc = RandomForestClassifier(random_state=42, n_jobs=-1)\n",
    "parameters_rf = {'n_estimators':[40, 50, 60, 70],\n",
    "                 'max_depth': [5, 10, 15, 20, 25, None],\n",
    "                 'max_features': [None, 'sqrt', 'log2'],\n",
    "                 'class_weight': [None, 'balanced']\n",
    "                }\n",
    "clf_rf = GridSearchCV(rfc, parameters_rf, n_jobs=-1, scoring=scoring, refit='F1', cv=sgkf)"
   ]
  },
  {
   "cell_type": "code",
   "execution_count": 26,
   "id": "f59be113-c662-409b-b2ae-080851c6a6a4",
   "metadata": {},
   "outputs": [],
   "source": [
    "# Skip this if not performing grid search again.\n",
    "# clf_rf.fit(x_train, y_train, groups=groups_train)\n",
    "# print(clf_rf.best_score_, clf_rf.best_params_)\n",
    "# 0.9688526568042404 {'class_weight': None, 'max_depth': 15, 'max_features': None, 'n_estimators': 70}"
   ]
  },
  {
   "cell_type": "code",
   "execution_count": 78,
   "id": "47b609dd-7ea6-47f1-a4f0-0c874a068ebf",
   "metadata": {},
   "outputs": [
    {
     "data": {
      "text/plain": [
       "{'fit_time': array([124.47887111, 119.66531515, 127.79431891, 116.8562007 ,\n",
       "        119.31770992, 125.28497672, 126.11348939, 125.77922726,\n",
       "         29.61426902,  25.91545391]),\n",
       " 'score_time': array([0.58903694, 0.75628281, 0.65951753, 0.71559596, 0.70435691,\n",
       "        0.60523915, 0.58164692, 0.59670067, 0.13466477, 0.24692106]),\n",
       " 'estimator': [RandomForestClassifier(max_depth=15, max_features=None, n_estimators=70,\n",
       "                         n_jobs=-1, random_state=42),\n",
       "  RandomForestClassifier(max_depth=15, max_features=None, n_estimators=70,\n",
       "                         n_jobs=-1, random_state=42),\n",
       "  RandomForestClassifier(max_depth=15, max_features=None, n_estimators=70,\n",
       "                         n_jobs=-1, random_state=42),\n",
       "  RandomForestClassifier(max_depth=15, max_features=None, n_estimators=70,\n",
       "                         n_jobs=-1, random_state=42),\n",
       "  RandomForestClassifier(max_depth=15, max_features=None, n_estimators=70,\n",
       "                         n_jobs=-1, random_state=42),\n",
       "  RandomForestClassifier(max_depth=15, max_features=None, n_estimators=70,\n",
       "                         n_jobs=-1, random_state=42),\n",
       "  RandomForestClassifier(max_depth=15, max_features=None, n_estimators=70,\n",
       "                         n_jobs=-1, random_state=42),\n",
       "  RandomForestClassifier(max_depth=15, max_features=None, n_estimators=70,\n",
       "                         n_jobs=-1, random_state=42),\n",
       "  RandomForestClassifier(max_depth=15, max_features=None, n_estimators=70,\n",
       "                         n_jobs=-1, random_state=42),\n",
       "  RandomForestClassifier(max_depth=15, max_features=None, n_estimators=70,\n",
       "                         n_jobs=-1, random_state=42)],\n",
       " 'test_AUC': array([0.99829618, 0.99828808, 0.99865587, 0.98651278, 0.99584458,\n",
       "        0.99999782, 0.99914109, 0.99988899, 0.98448228, 0.99918585]),\n",
       " 'test_Accuracy': array([0.9930323 , 0.99208727, 0.9973823 , 0.99553674, 0.99792124,\n",
       "        0.99903842, 0.99692095, 0.99592151, 0.99060527, 0.98952489]),\n",
       " 'test_Balanced Accracy': array([0.97647036, 0.9600762 , 0.99370711, 0.97597683, 0.99166089,\n",
       "        0.99855471, 0.99158868, 0.98553256, 0.95389077, 0.97944738]),\n",
       " 'test_Recall': array([0.95694022, 0.9222333 , 0.98937247, 0.95291139, 0.98427992,\n",
       "        0.99798387, 0.98530157, 0.97327282, 0.91061453, 0.96514423]),\n",
       " 'test_Neg Recall': array([0.9960005 , 0.99791909, 0.99804175, 0.99904227, 0.99904187,\n",
       "        0.99912555, 0.9978758 , 0.99779231, 0.99716702, 0.99375052]),\n",
       " 'test_F1': array([0.95428138, 0.94726062, 0.98290598, 0.97010309, 0.98628049,\n",
       "        0.99372647, 0.97983871, 0.97327282, 0.93629243, 0.96456456])}"
      ]
     },
     "metadata": {},
     "output_type": "display_data"
    }
   ],
   "source": [
    "# Skip this if not performing grid search again.\n",
    "# Now that we have the \"best parameters\", print some metrics:\n",
    "scores_rf = cross_validate(clf_rf.best_estimator_, x_train, y_train, groups=groups_train, cv=sgkf, n_jobs=-1, scoring=scoring, return_estimator=True)\n",
    "display(scores_rf)\n",
    "\n",
    "# Print the average feature importance for all CV tree classifiers:\n",
    "feature_importances_rf = []\n",
    "for idx,estimator in enumerate(scores_rf['estimator']):\n",
    "    feature_importances_rf.append(pd.DataFrame(estimator.feature_importances_,\n",
    "                                            index = joy_indices_tls,\n",
    "                                            columns=['importance'+str(idx)]).sort_values('importance'+str(idx), ascending=False))"
   ]
  },
  {
   "cell_type": "code",
   "execution_count": 79,
   "id": "670057f6-1335-4122-b7cd-286b55ff8454",
   "metadata": {},
   "outputs": [
    {
     "data": {
      "text/plain": [
       "tls_b_0     0.501127\n",
       "tls_b_2     0.277565\n",
       "tls_b_6     0.122021\n",
       "tls_b_1     0.043212\n",
       "tls_b_4     0.014349\n",
       "tls_b_7     0.008647\n",
       "tls_b_11    0.008100\n",
       "tls_b_10    0.004797\n",
       "tls_b_9     0.003126\n",
       "tls_b_12    0.002687\n",
       "dtype: float64"
      ]
     },
     "metadata": {},
     "output_type": "display_data"
    }
   ],
   "source": [
    "# Skip this if not performing grid search again.\n",
    "all_feature_importances_rf = reduce(lambda left,right: pd.merge(left,right,how='outer',\n",
    "                                                             left_index=True,\n",
    "                                                             right_index=True), feature_importances_rf)\n",
    "display(all_feature_importances_rf.mean(axis=1).sort_values(ascending=False).head(10))"
   ]
  },
  {
   "cell_type": "code",
   "execution_count": null,
   "id": "cd244656-b14e-440d-9184-10edf0d00a74",
   "metadata": {},
   "outputs": [],
   "source": [
    "# Skip this if not performing grid search again.\n",
    "# We will take the estimator with the best performance, train on all train data, apply to test data:\n",
    "rf_model = clf_rf.best_estimator_\n",
    "rf_model.fit(x_train, y_train)"
   ]
  },
  {
   "cell_type": "code",
   "execution_count": 27,
   "id": "2d7efc61-9502-4a9c-9a65-ea837e4c212b",
   "metadata": {},
   "outputs": [
    {
     "data": {
      "text/html": [
       "<style>#sk-container-id-2 {color: black;}#sk-container-id-2 pre{padding: 0;}#sk-container-id-2 div.sk-toggleable {background-color: white;}#sk-container-id-2 label.sk-toggleable__label {cursor: pointer;display: block;width: 100%;margin-bottom: 0;padding: 0.3em;box-sizing: border-box;text-align: center;}#sk-container-id-2 label.sk-toggleable__label-arrow:before {content: \"▸\";float: left;margin-right: 0.25em;color: #696969;}#sk-container-id-2 label.sk-toggleable__label-arrow:hover:before {color: black;}#sk-container-id-2 div.sk-estimator:hover label.sk-toggleable__label-arrow:before {color: black;}#sk-container-id-2 div.sk-toggleable__content {max-height: 0;max-width: 0;overflow: hidden;text-align: left;background-color: #f0f8ff;}#sk-container-id-2 div.sk-toggleable__content pre {margin: 0.2em;color: black;border-radius: 0.25em;background-color: #f0f8ff;}#sk-container-id-2 input.sk-toggleable__control:checked~div.sk-toggleable__content {max-height: 200px;max-width: 100%;overflow: auto;}#sk-container-id-2 input.sk-toggleable__control:checked~label.sk-toggleable__label-arrow:before {content: \"▾\";}#sk-container-id-2 div.sk-estimator input.sk-toggleable__control:checked~label.sk-toggleable__label {background-color: #d4ebff;}#sk-container-id-2 div.sk-label input.sk-toggleable__control:checked~label.sk-toggleable__label {background-color: #d4ebff;}#sk-container-id-2 input.sk-hidden--visually {border: 0;clip: rect(1px 1px 1px 1px);clip: rect(1px, 1px, 1px, 1px);height: 1px;margin: -1px;overflow: hidden;padding: 0;position: absolute;width: 1px;}#sk-container-id-2 div.sk-estimator {font-family: monospace;background-color: #f0f8ff;border: 1px dotted black;border-radius: 0.25em;box-sizing: border-box;margin-bottom: 0.5em;}#sk-container-id-2 div.sk-estimator:hover {background-color: #d4ebff;}#sk-container-id-2 div.sk-parallel-item::after {content: \"\";width: 100%;border-bottom: 1px solid gray;flex-grow: 1;}#sk-container-id-2 div.sk-label:hover label.sk-toggleable__label {background-color: #d4ebff;}#sk-container-id-2 div.sk-serial::before {content: \"\";position: absolute;border-left: 1px solid gray;box-sizing: border-box;top: 0;bottom: 0;left: 50%;z-index: 0;}#sk-container-id-2 div.sk-serial {display: flex;flex-direction: column;align-items: center;background-color: white;padding-right: 0.2em;padding-left: 0.2em;position: relative;}#sk-container-id-2 div.sk-item {position: relative;z-index: 1;}#sk-container-id-2 div.sk-parallel {display: flex;align-items: stretch;justify-content: center;background-color: white;position: relative;}#sk-container-id-2 div.sk-item::before, #sk-container-id-2 div.sk-parallel-item::before {content: \"\";position: absolute;border-left: 1px solid gray;box-sizing: border-box;top: 0;bottom: 0;left: 50%;z-index: -1;}#sk-container-id-2 div.sk-parallel-item {display: flex;flex-direction: column;z-index: 1;position: relative;background-color: white;}#sk-container-id-2 div.sk-parallel-item:first-child::after {align-self: flex-end;width: 50%;}#sk-container-id-2 div.sk-parallel-item:last-child::after {align-self: flex-start;width: 50%;}#sk-container-id-2 div.sk-parallel-item:only-child::after {width: 0;}#sk-container-id-2 div.sk-dashed-wrapped {border: 1px dashed gray;margin: 0 0.4em 0.5em 0.4em;box-sizing: border-box;padding-bottom: 0.4em;background-color: white;}#sk-container-id-2 div.sk-label label {font-family: monospace;font-weight: bold;display: inline-block;line-height: 1.2em;}#sk-container-id-2 div.sk-label-container {text-align: center;}#sk-container-id-2 div.sk-container {/* jupyter's `normalize.less` sets `[hidden] { display: none; }` but bootstrap.min.css set `[hidden] { display: none !important; }` so we also need the `!important` here to be able to override the default hidden behavior on the sphinx rendered scikit-learn.org. See: https://github.com/scikit-learn/scikit-learn/issues/21755 */display: inline-block !important;position: relative;}#sk-container-id-2 div.sk-text-repr-fallback {display: none;}</style><div id=\"sk-container-id-2\" class=\"sk-top-container\"><div class=\"sk-text-repr-fallback\"><pre>RandomForestClassifier(max_depth=15, max_features=None, n_estimators=70,\n",
       "                       n_jobs=-1, random_state=42)</pre><b>In a Jupyter environment, please rerun this cell to show the HTML representation or trust the notebook. <br />On GitHub, the HTML representation is unable to render, please try loading this page with nbviewer.org.</b></div><div class=\"sk-container\" hidden><div class=\"sk-item\"><div class=\"sk-estimator sk-toggleable\"><input class=\"sk-toggleable__control sk-hidden--visually\" id=\"sk-estimator-id-2\" type=\"checkbox\" checked><label for=\"sk-estimator-id-2\" class=\"sk-toggleable__label sk-toggleable__label-arrow\">RandomForestClassifier</label><div class=\"sk-toggleable__content\"><pre>RandomForestClassifier(max_depth=15, max_features=None, n_estimators=70,\n",
       "                       n_jobs=-1, random_state=42)</pre></div></div></div></div></div>"
      ],
      "text/plain": [
       "RandomForestClassifier(max_depth=15, max_features=None, n_estimators=70,\n",
       "                       n_jobs=-1, random_state=42)"
      ]
     },
     "execution_count": 27,
     "metadata": {},
     "output_type": "execute_result"
    }
   ],
   "source": [
    "rf_model = RandomForestClassifier(random_state=42, n_jobs=-1, class_weight=None, max_depth=15, max_features=None, n_estimators=70)\n",
    "rf_model.fit(x_train, y_train)"
   ]
  },
  {
   "cell_type": "code",
   "execution_count": 28,
   "id": "e351c089-af08-4b71-8023-6c390fe9ceff",
   "metadata": {},
   "outputs": [
    {
     "name": "stdout",
     "output_type": "stream",
     "text": [
      "96.68 & 98.92 & 100.00 & 100.00 & 100.00 & 0.00 & 0.00 & 0.00 & 99.98\n"
     ]
    }
   ],
   "source": [
    "print(\" & \".join('{:.2f}'.format(x) for x in [ \n",
    "                   sum(rf_model.predict(mta_test)[np.where(mta_test_y==0)] == 0) / sum(mta_test_y==0) *100,\n",
    "                   sum(rf_model.predict(mta_test)[np.where(mta_test_y)]) / sum(mta_test_y) *100,\n",
    "                   sum(rf_model.predict(tranco_test[12])==0)/len(tranco_test[12]) * 100,\n",
    "                   sum(rf_model.predict(tranco_test[13])==0)/len(tranco_test[13]) * 100,\n",
    "                   sum(rf_model.predict(ms_test[12][\"short\"])==1)/len(ms_test[12][\"short\"]) * 100,\n",
    "                   sum(rf_model.predict(ms_test[12][\"long\"])==1)/len(ms_test[12][\"long\"]) * 100,\n",
    "                   sum(rf_model.predict(ms_test[13][\"short\"])==1)/len(ms_test[13][\"short\"]) * 100,\n",
    "                   sum(rf_model.predict(ms_test[13][\"long\"])==1)/len(ms_test[13][\"long\"]) * 100,\n",
    "                   sum(rf_model.predict(doh_df_all_benign)==0)/len(doh_df_all_benign) * 100]))"
   ]
  },
  {
   "cell_type": "markdown",
   "id": "6ffb0cc7",
   "metadata": {},
   "source": [
    "## Motivating Example:"
   ]
  },
  {
   "cell_type": "code",
   "execution_count": 29,
   "id": "2ec48416-d9de-43ea-a04b-9fa47332b794",
   "metadata": {},
   "outputs": [
    {
     "name": "stdout",
     "output_type": "stream",
     "text": [
      "100.00 & 100.00 & 100.00 & 0.00 & 0.00\n"
     ]
    }
   ],
   "source": [
    "np.random.seed(42)\n",
    "\n",
    "me_tranco12 = rf_model.predict(tranco_test[12][np.random.choice(range(tranco_test[12].shape[0]),10000,replace=False)])\n",
    "me_tranco13 = rf_model.predict(tranco_test[13][np.random.choice(range(tranco_test[13].shape[0]),10000,replace=False)])\n",
    "me_ms12 = rf_model.predict(ms_test[12][\"short\"][np.random.choice(range(ms_test[12][\"short\"].shape[0]),75,replace=False)])\n",
    "me_ms13short = rf_model.predict(ms_test[13][\"short\"][np.random.choice(range(ms_test[13][\"short\"].shape[0]),75,replace=False)])\n",
    "me_ms13long = rf_model.predict(ms_test[13][\"long\"][np.random.choice(range(ms_test[13][\"long\"].shape[0]),50,replace=False)])\n",
    "\n",
    "print(\" & \".join('{:.2f}'.format(x) for x in [\n",
    "    (sum(me_tranco12 == 0) / len(me_tranco12) * 100),\n",
    "    (sum(me_tranco13 == 0) / len(me_tranco13) * 100),\n",
    "    (sum(me_ms12 == 1) / len(me_ms12) * 100),\n",
    "    (sum(me_ms13short == 1) / len(me_ms13short) * 100),\n",
    "    (sum(me_ms13long == 1) / len(me_ms13long) * 100)\n",
    "]))"
   ]
  },
  {
   "cell_type": "markdown",
   "id": "0fa21d68-ec28-4b60-96a5-80e897b73b9f",
   "metadata": {},
   "source": [
    "## Load UCNet\n",
    "This part was not used. It was just meant to confirm that C-Basic's results are artificially \"good\" on UCNet."
   ]
  },
  {
   "cell_type": "code",
   "execution_count": null,
   "id": "c42f639c-57f1-4173-813a-0346558c1048",
   "metadata": {},
   "outputs": [],
   "source": [
    "realnet_all = pd.read_csv('data/ucnet/all.csv')"
   ]
  },
  {
   "cell_type": "code",
   "execution_count": null,
   "id": "7cb190a1-ad89-4818-b05b-d4a843e2263a",
   "metadata": {},
   "outputs": [],
   "source": [
    "realnet_all = realnet_all[realnet_all['first_hs_tp'].astype(str) == '1'].reset_index(drop=True)\n",
    "tls_dir = ['tls_dir_'+str(a) for a in range(20)]\n",
    "realnet_all.drop(realnet_all[realnet_all[tls_dir].isin([1,-1]).all(axis=1)].index, inplace=True)\n",
    "realnet_all.drop(realnet_all[realnet_all[tls_dir].isin([0,-1]).all(axis=1)].index, inplace=True)"
   ]
  },
  {
   "cell_type": "code",
   "execution_count": null,
   "id": "dff3d527-f1f1-45b0-b000-1db79207663d",
   "metadata": {},
   "outputs": [],
   "source": [
    "realnet_all['tls_version_guess'] = 'TLS 1.2'\n",
    "realnet_all.loc[(realnet_all['c_tls_version']==5)&(realnet_all['s_tls_version']==5)&\n",
    "       (realnet_all['c_supported_versions']!='-1')&(realnet_all['c_supported_versions']!='')&\n",
    "       ((realnet_all['s_supported_versions'] == '7f17')|(realnet_all['s_supported_versions'] == 'fb1a')|\n",
    "       (realnet_all['s_supported_versions'] == '304')|(realnet_all['s_supported_versions'] == 304)|(realnet_all['s_supported_versions'] == '0304')), 'tls_version_guess'] = 'TLS 1.3'"
   ]
  },
  {
   "cell_type": "code",
   "execution_count": null,
   "id": "d3b0de4a-3a60-422a-8dc2-777a95493ac7",
   "metadata": {},
   "outputs": [],
   "source": [
    "realnet_all_test = {\n",
    "    12: realnet_all.loc[realnet_all['tls_version_guess'] == 'TLS 1.2', joy_indices_tls].values.astype(np.float64),\n",
    "    13: realnet_all.loc[realnet_all['tls_version_guess'] == 'TLS 1.3', joy_indices_tls].values.astype(np.float64),\n",
    "}"
   ]
  },
  {
   "cell_type": "code",
   "execution_count": 92,
   "id": "20de6788-ee6f-441d-adc6-88d6e11c7c17",
   "metadata": {},
   "outputs": [
    {
     "data": {
      "text/plain": [
       "(99.91765014267135, 99.92751737081711)"
      ]
     },
     "execution_count": 92,
     "metadata": {},
     "output_type": "execute_result"
    }
   ],
   "source": [
    "(sum(tree_model.predict(realnet_all_test[12])==0) / len(realnet_all_test[12]) *100,\n",
    " sum(rf_model.predict(realnet_all_test[12])==0) / len(realnet_all_test[12]) * 100)"
   ]
  },
  {
   "cell_type": "code",
   "execution_count": 93,
   "id": "ac98a84e-bbc6-48e9-ac30-05dc8bfdf273",
   "metadata": {},
   "outputs": [
    {
     "data": {
      "text/plain": [
       "(99.87851732262291, 99.93281744751667)"
      ]
     },
     "execution_count": 93,
     "metadata": {},
     "output_type": "execute_result"
    }
   ],
   "source": [
    "(sum(tree_model.predict(realnet_all_test[13])==0) / len(realnet_all_test[13]) *100,\n",
    " sum(rf_model.predict(realnet_all_test[13])==0) / len(realnet_all_test[13]) * 100)"
   ]
  }
 ],
 "metadata": {
  "kernelspec": {
   "display_name": "Python 3 (ipykernel)",
   "language": "python",
   "name": "python3"
  },
  "language_info": {
   "codemirror_mode": {
    "name": "ipython",
    "version": 3
   },
   "file_extension": ".py",
   "mimetype": "text/x-python",
   "name": "python",
   "nbconvert_exporter": "python",
   "pygments_lexer": "ipython3",
   "version": "3.10.6"
  }
 },
 "nbformat": 4,
 "nbformat_minor": 5
}
